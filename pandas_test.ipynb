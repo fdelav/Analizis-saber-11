{
  "nbformat": 4,
  "nbformat_minor": 0,
  "metadata": {
    "colab": {
      "provenance": [],
      "include_colab_link": true
    },
    "kernelspec": {
      "name": "python3",
      "display_name": "Python 3"
    },
    "language_info": {
      "name": "python"
    }
  },
  "cells": [
    {
      "cell_type": "markdown",
      "metadata": {
        "id": "view-in-github",
        "colab_type": "text"
      },
      "source": [
        "<a href=\"https://colab.research.google.com/github/fdelav/Analizis-saber-11/blob/main/pandas_test.ipynb\" target=\"_parent\"><img src=\"https://colab.research.google.com/assets/colab-badge.svg\" alt=\"Open In Colab\"/></a>"
      ]
    },
    {
      "cell_type": "code",
      "execution_count": 2,
      "metadata": {
        "id": "LrBpbN6PrcFS"
      },
      "outputs": [],
      "source": [
        "import pandas as pd\n",
        "import numpy as np\n",
        "import matplotlib.pyplot as plt\n"
      ]
    },
    {
      "cell_type": "markdown",
      "source": [
        "## Creación y limpieza de base de datos"
      ],
      "metadata": {
        "id": "OSjpXIMfh6-m"
      }
    },
    {
      "cell_type": "code",
      "source": [
        "# Lectura del csv para sacar los datos\n",
        "df = pd.read_csv(\"/content/Saber_11__2020-2_20250728.csv\")\n",
        "# Creación de copia del data frame\n",
        "df_copy = df.copy()\n",
        "# Filtrar columnas que se utilizaran durante el análisis\n",
        "df = df.filter(items=[\"ESTU_CONSECUTIVO\", \"ESTU_PAIS_RESIDE\",\"ESTU_GENERO\", \"FAMI_ESTRATOVIVIENDA\", \"PUNT_GLOBAL\"])\n",
        "# Borrar datos nulos y duplicados\n",
        "df = df.dropna()\n",
        "df = df.drop_duplicates()\n"
      ],
      "metadata": {
        "id": "1yxN2V1ytkca"
      },
      "execution_count": 40,
      "outputs": []
    },
    {
      "cell_type": "code",
      "source": [
        "df.head()"
      ],
      "metadata": {
        "colab": {
          "base_uri": "https://localhost:8080/",
          "height": 206
        },
        "id": "LVhF42801uAE",
        "outputId": "0e3f4f41-b8b9-41fa-aa71-0b00c4903e35"
      },
      "execution_count": 41,
      "outputs": [
        {
          "output_type": "execute_result",
          "data": {
            "text/plain": [
              "   ESTU_CONSECUTIVO ESTU_PAIS_RESIDE ESTU_GENERO FAMI_ESTRATOVIVIENDA  \\\n",
              "0  SB11202040211436            SUIZA           F            Estrato 2   \n",
              "1  SB11202040433216        VENEZUELA           M            Estrato 3   \n",
              "2  SB11202040244180        VENEZUELA           F            Estrato 1   \n",
              "3  SB11202040210971        VENEZUELA           M          Sin Estrato   \n",
              "4  SB11202040235382         COLOMBIA           F            Estrato 5   \n",
              "\n",
              "   PUNT_GLOBAL  \n",
              "0          244  \n",
              "1          238  \n",
              "2          325  \n",
              "3          238  \n",
              "4          202  "
            ],
            "text/html": [
              "\n",
              "  <div id=\"df-036e3588-39e3-4626-8b8b-f238b75b1ef3\" class=\"colab-df-container\">\n",
              "    <div>\n",
              "<style scoped>\n",
              "    .dataframe tbody tr th:only-of-type {\n",
              "        vertical-align: middle;\n",
              "    }\n",
              "\n",
              "    .dataframe tbody tr th {\n",
              "        vertical-align: top;\n",
              "    }\n",
              "\n",
              "    .dataframe thead th {\n",
              "        text-align: right;\n",
              "    }\n",
              "</style>\n",
              "<table border=\"1\" class=\"dataframe\">\n",
              "  <thead>\n",
              "    <tr style=\"text-align: right;\">\n",
              "      <th></th>\n",
              "      <th>ESTU_CONSECUTIVO</th>\n",
              "      <th>ESTU_PAIS_RESIDE</th>\n",
              "      <th>ESTU_GENERO</th>\n",
              "      <th>FAMI_ESTRATOVIVIENDA</th>\n",
              "      <th>PUNT_GLOBAL</th>\n",
              "    </tr>\n",
              "  </thead>\n",
              "  <tbody>\n",
              "    <tr>\n",
              "      <th>0</th>\n",
              "      <td>SB11202040211436</td>\n",
              "      <td>SUIZA</td>\n",
              "      <td>F</td>\n",
              "      <td>Estrato 2</td>\n",
              "      <td>244</td>\n",
              "    </tr>\n",
              "    <tr>\n",
              "      <th>1</th>\n",
              "      <td>SB11202040433216</td>\n",
              "      <td>VENEZUELA</td>\n",
              "      <td>M</td>\n",
              "      <td>Estrato 3</td>\n",
              "      <td>238</td>\n",
              "    </tr>\n",
              "    <tr>\n",
              "      <th>2</th>\n",
              "      <td>SB11202040244180</td>\n",
              "      <td>VENEZUELA</td>\n",
              "      <td>F</td>\n",
              "      <td>Estrato 1</td>\n",
              "      <td>325</td>\n",
              "    </tr>\n",
              "    <tr>\n",
              "      <th>3</th>\n",
              "      <td>SB11202040210971</td>\n",
              "      <td>VENEZUELA</td>\n",
              "      <td>M</td>\n",
              "      <td>Sin Estrato</td>\n",
              "      <td>238</td>\n",
              "    </tr>\n",
              "    <tr>\n",
              "      <th>4</th>\n",
              "      <td>SB11202040235382</td>\n",
              "      <td>COLOMBIA</td>\n",
              "      <td>F</td>\n",
              "      <td>Estrato 5</td>\n",
              "      <td>202</td>\n",
              "    </tr>\n",
              "  </tbody>\n",
              "</table>\n",
              "</div>\n",
              "    <div class=\"colab-df-buttons\">\n",
              "\n",
              "  <div class=\"colab-df-container\">\n",
              "    <button class=\"colab-df-convert\" onclick=\"convertToInteractive('df-036e3588-39e3-4626-8b8b-f238b75b1ef3')\"\n",
              "            title=\"Convert this dataframe to an interactive table.\"\n",
              "            style=\"display:none;\">\n",
              "\n",
              "  <svg xmlns=\"http://www.w3.org/2000/svg\" height=\"24px\" viewBox=\"0 -960 960 960\">\n",
              "    <path d=\"M120-120v-720h720v720H120Zm60-500h600v-160H180v160Zm220 220h160v-160H400v160Zm0 220h160v-160H400v160ZM180-400h160v-160H180v160Zm440 0h160v-160H620v160ZM180-180h160v-160H180v160Zm440 0h160v-160H620v160Z\"/>\n",
              "  </svg>\n",
              "    </button>\n",
              "\n",
              "  <style>\n",
              "    .colab-df-container {\n",
              "      display:flex;\n",
              "      gap: 12px;\n",
              "    }\n",
              "\n",
              "    .colab-df-convert {\n",
              "      background-color: #E8F0FE;\n",
              "      border: none;\n",
              "      border-radius: 50%;\n",
              "      cursor: pointer;\n",
              "      display: none;\n",
              "      fill: #1967D2;\n",
              "      height: 32px;\n",
              "      padding: 0 0 0 0;\n",
              "      width: 32px;\n",
              "    }\n",
              "\n",
              "    .colab-df-convert:hover {\n",
              "      background-color: #E2EBFA;\n",
              "      box-shadow: 0px 1px 2px rgba(60, 64, 67, 0.3), 0px 1px 3px 1px rgba(60, 64, 67, 0.15);\n",
              "      fill: #174EA6;\n",
              "    }\n",
              "\n",
              "    .colab-df-buttons div {\n",
              "      margin-bottom: 4px;\n",
              "    }\n",
              "\n",
              "    [theme=dark] .colab-df-convert {\n",
              "      background-color: #3B4455;\n",
              "      fill: #D2E3FC;\n",
              "    }\n",
              "\n",
              "    [theme=dark] .colab-df-convert:hover {\n",
              "      background-color: #434B5C;\n",
              "      box-shadow: 0px 1px 3px 1px rgba(0, 0, 0, 0.15);\n",
              "      filter: drop-shadow(0px 1px 2px rgba(0, 0, 0, 0.3));\n",
              "      fill: #FFFFFF;\n",
              "    }\n",
              "  </style>\n",
              "\n",
              "    <script>\n",
              "      const buttonEl =\n",
              "        document.querySelector('#df-036e3588-39e3-4626-8b8b-f238b75b1ef3 button.colab-df-convert');\n",
              "      buttonEl.style.display =\n",
              "        google.colab.kernel.accessAllowed ? 'block' : 'none';\n",
              "\n",
              "      async function convertToInteractive(key) {\n",
              "        const element = document.querySelector('#df-036e3588-39e3-4626-8b8b-f238b75b1ef3');\n",
              "        const dataTable =\n",
              "          await google.colab.kernel.invokeFunction('convertToInteractive',\n",
              "                                                    [key], {});\n",
              "        if (!dataTable) return;\n",
              "\n",
              "        const docLinkHtml = 'Like what you see? Visit the ' +\n",
              "          '<a target=\"_blank\" href=https://colab.research.google.com/notebooks/data_table.ipynb>data table notebook</a>'\n",
              "          + ' to learn more about interactive tables.';\n",
              "        element.innerHTML = '';\n",
              "        dataTable['output_type'] = 'display_data';\n",
              "        await google.colab.output.renderOutput(dataTable, element);\n",
              "        const docLink = document.createElement('div');\n",
              "        docLink.innerHTML = docLinkHtml;\n",
              "        element.appendChild(docLink);\n",
              "      }\n",
              "    </script>\n",
              "  </div>\n",
              "\n",
              "\n",
              "    <div id=\"df-d33f46cd-e162-4e53-9657-f713bd91079b\">\n",
              "      <button class=\"colab-df-quickchart\" onclick=\"quickchart('df-d33f46cd-e162-4e53-9657-f713bd91079b')\"\n",
              "                title=\"Suggest charts\"\n",
              "                style=\"display:none;\">\n",
              "\n",
              "<svg xmlns=\"http://www.w3.org/2000/svg\" height=\"24px\"viewBox=\"0 0 24 24\"\n",
              "     width=\"24px\">\n",
              "    <g>\n",
              "        <path d=\"M19 3H5c-1.1 0-2 .9-2 2v14c0 1.1.9 2 2 2h14c1.1 0 2-.9 2-2V5c0-1.1-.9-2-2-2zM9 17H7v-7h2v7zm4 0h-2V7h2v10zm4 0h-2v-4h2v4z\"/>\n",
              "    </g>\n",
              "</svg>\n",
              "      </button>\n",
              "\n",
              "<style>\n",
              "  .colab-df-quickchart {\n",
              "      --bg-color: #E8F0FE;\n",
              "      --fill-color: #1967D2;\n",
              "      --hover-bg-color: #E2EBFA;\n",
              "      --hover-fill-color: #174EA6;\n",
              "      --disabled-fill-color: #AAA;\n",
              "      --disabled-bg-color: #DDD;\n",
              "  }\n",
              "\n",
              "  [theme=dark] .colab-df-quickchart {\n",
              "      --bg-color: #3B4455;\n",
              "      --fill-color: #D2E3FC;\n",
              "      --hover-bg-color: #434B5C;\n",
              "      --hover-fill-color: #FFFFFF;\n",
              "      --disabled-bg-color: #3B4455;\n",
              "      --disabled-fill-color: #666;\n",
              "  }\n",
              "\n",
              "  .colab-df-quickchart {\n",
              "    background-color: var(--bg-color);\n",
              "    border: none;\n",
              "    border-radius: 50%;\n",
              "    cursor: pointer;\n",
              "    display: none;\n",
              "    fill: var(--fill-color);\n",
              "    height: 32px;\n",
              "    padding: 0;\n",
              "    width: 32px;\n",
              "  }\n",
              "\n",
              "  .colab-df-quickchart:hover {\n",
              "    background-color: var(--hover-bg-color);\n",
              "    box-shadow: 0 1px 2px rgba(60, 64, 67, 0.3), 0 1px 3px 1px rgba(60, 64, 67, 0.15);\n",
              "    fill: var(--button-hover-fill-color);\n",
              "  }\n",
              "\n",
              "  .colab-df-quickchart-complete:disabled,\n",
              "  .colab-df-quickchart-complete:disabled:hover {\n",
              "    background-color: var(--disabled-bg-color);\n",
              "    fill: var(--disabled-fill-color);\n",
              "    box-shadow: none;\n",
              "  }\n",
              "\n",
              "  .colab-df-spinner {\n",
              "    border: 2px solid var(--fill-color);\n",
              "    border-color: transparent;\n",
              "    border-bottom-color: var(--fill-color);\n",
              "    animation:\n",
              "      spin 1s steps(1) infinite;\n",
              "  }\n",
              "\n",
              "  @keyframes spin {\n",
              "    0% {\n",
              "      border-color: transparent;\n",
              "      border-bottom-color: var(--fill-color);\n",
              "      border-left-color: var(--fill-color);\n",
              "    }\n",
              "    20% {\n",
              "      border-color: transparent;\n",
              "      border-left-color: var(--fill-color);\n",
              "      border-top-color: var(--fill-color);\n",
              "    }\n",
              "    30% {\n",
              "      border-color: transparent;\n",
              "      border-left-color: var(--fill-color);\n",
              "      border-top-color: var(--fill-color);\n",
              "      border-right-color: var(--fill-color);\n",
              "    }\n",
              "    40% {\n",
              "      border-color: transparent;\n",
              "      border-right-color: var(--fill-color);\n",
              "      border-top-color: var(--fill-color);\n",
              "    }\n",
              "    60% {\n",
              "      border-color: transparent;\n",
              "      border-right-color: var(--fill-color);\n",
              "    }\n",
              "    80% {\n",
              "      border-color: transparent;\n",
              "      border-right-color: var(--fill-color);\n",
              "      border-bottom-color: var(--fill-color);\n",
              "    }\n",
              "    90% {\n",
              "      border-color: transparent;\n",
              "      border-bottom-color: var(--fill-color);\n",
              "    }\n",
              "  }\n",
              "</style>\n",
              "\n",
              "      <script>\n",
              "        async function quickchart(key) {\n",
              "          const quickchartButtonEl =\n",
              "            document.querySelector('#' + key + ' button');\n",
              "          quickchartButtonEl.disabled = true;  // To prevent multiple clicks.\n",
              "          quickchartButtonEl.classList.add('colab-df-spinner');\n",
              "          try {\n",
              "            const charts = await google.colab.kernel.invokeFunction(\n",
              "                'suggestCharts', [key], {});\n",
              "          } catch (error) {\n",
              "            console.error('Error during call to suggestCharts:', error);\n",
              "          }\n",
              "          quickchartButtonEl.classList.remove('colab-df-spinner');\n",
              "          quickchartButtonEl.classList.add('colab-df-quickchart-complete');\n",
              "        }\n",
              "        (() => {\n",
              "          let quickchartButtonEl =\n",
              "            document.querySelector('#df-d33f46cd-e162-4e53-9657-f713bd91079b button');\n",
              "          quickchartButtonEl.style.display =\n",
              "            google.colab.kernel.accessAllowed ? 'block' : 'none';\n",
              "        })();\n",
              "      </script>\n",
              "    </div>\n",
              "\n",
              "    </div>\n",
              "  </div>\n"
            ],
            "application/vnd.google.colaboratory.intrinsic+json": {
              "type": "dataframe",
              "variable_name": "df"
            }
          },
          "metadata": {},
          "execution_count": 41
        }
      ]
    },
    {
      "cell_type": "code",
      "source": [
        "df.describe()"
      ],
      "metadata": {
        "colab": {
          "base_uri": "https://localhost:8080/",
          "height": 300
        },
        "id": "SnXTJYMLhSAk",
        "outputId": "b437de60-aaaf-4bcd-ae33-c3c214ead09e"
      },
      "execution_count": 15,
      "outputs": [
        {
          "output_type": "execute_result",
          "data": {
            "text/plain": [
              "         PUNT_GLOBAL\n",
              "count  487912.000000\n",
              "mean      248.784291\n",
              "std        48.410151\n",
              "min         0.000000\n",
              "25%       212.000000\n",
              "50%       245.000000\n",
              "75%       282.000000\n",
              "max       500.000000"
            ],
            "text/html": [
              "\n",
              "  <div id=\"df-6d0bb878-5a6d-43aa-bcc9-bbed2f515575\" class=\"colab-df-container\">\n",
              "    <div>\n",
              "<style scoped>\n",
              "    .dataframe tbody tr th:only-of-type {\n",
              "        vertical-align: middle;\n",
              "    }\n",
              "\n",
              "    .dataframe tbody tr th {\n",
              "        vertical-align: top;\n",
              "    }\n",
              "\n",
              "    .dataframe thead th {\n",
              "        text-align: right;\n",
              "    }\n",
              "</style>\n",
              "<table border=\"1\" class=\"dataframe\">\n",
              "  <thead>\n",
              "    <tr style=\"text-align: right;\">\n",
              "      <th></th>\n",
              "      <th>PUNT_GLOBAL</th>\n",
              "    </tr>\n",
              "  </thead>\n",
              "  <tbody>\n",
              "    <tr>\n",
              "      <th>count</th>\n",
              "      <td>487912.000000</td>\n",
              "    </tr>\n",
              "    <tr>\n",
              "      <th>mean</th>\n",
              "      <td>248.784291</td>\n",
              "    </tr>\n",
              "    <tr>\n",
              "      <th>std</th>\n",
              "      <td>48.410151</td>\n",
              "    </tr>\n",
              "    <tr>\n",
              "      <th>min</th>\n",
              "      <td>0.000000</td>\n",
              "    </tr>\n",
              "    <tr>\n",
              "      <th>25%</th>\n",
              "      <td>212.000000</td>\n",
              "    </tr>\n",
              "    <tr>\n",
              "      <th>50%</th>\n",
              "      <td>245.000000</td>\n",
              "    </tr>\n",
              "    <tr>\n",
              "      <th>75%</th>\n",
              "      <td>282.000000</td>\n",
              "    </tr>\n",
              "    <tr>\n",
              "      <th>max</th>\n",
              "      <td>500.000000</td>\n",
              "    </tr>\n",
              "  </tbody>\n",
              "</table>\n",
              "</div>\n",
              "    <div class=\"colab-df-buttons\">\n",
              "\n",
              "  <div class=\"colab-df-container\">\n",
              "    <button class=\"colab-df-convert\" onclick=\"convertToInteractive('df-6d0bb878-5a6d-43aa-bcc9-bbed2f515575')\"\n",
              "            title=\"Convert this dataframe to an interactive table.\"\n",
              "            style=\"display:none;\">\n",
              "\n",
              "  <svg xmlns=\"http://www.w3.org/2000/svg\" height=\"24px\" viewBox=\"0 -960 960 960\">\n",
              "    <path d=\"M120-120v-720h720v720H120Zm60-500h600v-160H180v160Zm220 220h160v-160H400v160Zm0 220h160v-160H400v160ZM180-400h160v-160H180v160Zm440 0h160v-160H620v160ZM180-180h160v-160H180v160Zm440 0h160v-160H620v160Z\"/>\n",
              "  </svg>\n",
              "    </button>\n",
              "\n",
              "  <style>\n",
              "    .colab-df-container {\n",
              "      display:flex;\n",
              "      gap: 12px;\n",
              "    }\n",
              "\n",
              "    .colab-df-convert {\n",
              "      background-color: #E8F0FE;\n",
              "      border: none;\n",
              "      border-radius: 50%;\n",
              "      cursor: pointer;\n",
              "      display: none;\n",
              "      fill: #1967D2;\n",
              "      height: 32px;\n",
              "      padding: 0 0 0 0;\n",
              "      width: 32px;\n",
              "    }\n",
              "\n",
              "    .colab-df-convert:hover {\n",
              "      background-color: #E2EBFA;\n",
              "      box-shadow: 0px 1px 2px rgba(60, 64, 67, 0.3), 0px 1px 3px 1px rgba(60, 64, 67, 0.15);\n",
              "      fill: #174EA6;\n",
              "    }\n",
              "\n",
              "    .colab-df-buttons div {\n",
              "      margin-bottom: 4px;\n",
              "    }\n",
              "\n",
              "    [theme=dark] .colab-df-convert {\n",
              "      background-color: #3B4455;\n",
              "      fill: #D2E3FC;\n",
              "    }\n",
              "\n",
              "    [theme=dark] .colab-df-convert:hover {\n",
              "      background-color: #434B5C;\n",
              "      box-shadow: 0px 1px 3px 1px rgba(0, 0, 0, 0.15);\n",
              "      filter: drop-shadow(0px 1px 2px rgba(0, 0, 0, 0.3));\n",
              "      fill: #FFFFFF;\n",
              "    }\n",
              "  </style>\n",
              "\n",
              "    <script>\n",
              "      const buttonEl =\n",
              "        document.querySelector('#df-6d0bb878-5a6d-43aa-bcc9-bbed2f515575 button.colab-df-convert');\n",
              "      buttonEl.style.display =\n",
              "        google.colab.kernel.accessAllowed ? 'block' : 'none';\n",
              "\n",
              "      async function convertToInteractive(key) {\n",
              "        const element = document.querySelector('#df-6d0bb878-5a6d-43aa-bcc9-bbed2f515575');\n",
              "        const dataTable =\n",
              "          await google.colab.kernel.invokeFunction('convertToInteractive',\n",
              "                                                    [key], {});\n",
              "        if (!dataTable) return;\n",
              "\n",
              "        const docLinkHtml = 'Like what you see? Visit the ' +\n",
              "          '<a target=\"_blank\" href=https://colab.research.google.com/notebooks/data_table.ipynb>data table notebook</a>'\n",
              "          + ' to learn more about interactive tables.';\n",
              "        element.innerHTML = '';\n",
              "        dataTable['output_type'] = 'display_data';\n",
              "        await google.colab.output.renderOutput(dataTable, element);\n",
              "        const docLink = document.createElement('div');\n",
              "        docLink.innerHTML = docLinkHtml;\n",
              "        element.appendChild(docLink);\n",
              "      }\n",
              "    </script>\n",
              "  </div>\n",
              "\n",
              "\n",
              "    <div id=\"df-8c3c6db3-e63f-4f48-9ca0-1006341e07d7\">\n",
              "      <button class=\"colab-df-quickchart\" onclick=\"quickchart('df-8c3c6db3-e63f-4f48-9ca0-1006341e07d7')\"\n",
              "                title=\"Suggest charts\"\n",
              "                style=\"display:none;\">\n",
              "\n",
              "<svg xmlns=\"http://www.w3.org/2000/svg\" height=\"24px\"viewBox=\"0 0 24 24\"\n",
              "     width=\"24px\">\n",
              "    <g>\n",
              "        <path d=\"M19 3H5c-1.1 0-2 .9-2 2v14c0 1.1.9 2 2 2h14c1.1 0 2-.9 2-2V5c0-1.1-.9-2-2-2zM9 17H7v-7h2v7zm4 0h-2V7h2v10zm4 0h-2v-4h2v4z\"/>\n",
              "    </g>\n",
              "</svg>\n",
              "      </button>\n",
              "\n",
              "<style>\n",
              "  .colab-df-quickchart {\n",
              "      --bg-color: #E8F0FE;\n",
              "      --fill-color: #1967D2;\n",
              "      --hover-bg-color: #E2EBFA;\n",
              "      --hover-fill-color: #174EA6;\n",
              "      --disabled-fill-color: #AAA;\n",
              "      --disabled-bg-color: #DDD;\n",
              "  }\n",
              "\n",
              "  [theme=dark] .colab-df-quickchart {\n",
              "      --bg-color: #3B4455;\n",
              "      --fill-color: #D2E3FC;\n",
              "      --hover-bg-color: #434B5C;\n",
              "      --hover-fill-color: #FFFFFF;\n",
              "      --disabled-bg-color: #3B4455;\n",
              "      --disabled-fill-color: #666;\n",
              "  }\n",
              "\n",
              "  .colab-df-quickchart {\n",
              "    background-color: var(--bg-color);\n",
              "    border: none;\n",
              "    border-radius: 50%;\n",
              "    cursor: pointer;\n",
              "    display: none;\n",
              "    fill: var(--fill-color);\n",
              "    height: 32px;\n",
              "    padding: 0;\n",
              "    width: 32px;\n",
              "  }\n",
              "\n",
              "  .colab-df-quickchart:hover {\n",
              "    background-color: var(--hover-bg-color);\n",
              "    box-shadow: 0 1px 2px rgba(60, 64, 67, 0.3), 0 1px 3px 1px rgba(60, 64, 67, 0.15);\n",
              "    fill: var(--button-hover-fill-color);\n",
              "  }\n",
              "\n",
              "  .colab-df-quickchart-complete:disabled,\n",
              "  .colab-df-quickchart-complete:disabled:hover {\n",
              "    background-color: var(--disabled-bg-color);\n",
              "    fill: var(--disabled-fill-color);\n",
              "    box-shadow: none;\n",
              "  }\n",
              "\n",
              "  .colab-df-spinner {\n",
              "    border: 2px solid var(--fill-color);\n",
              "    border-color: transparent;\n",
              "    border-bottom-color: var(--fill-color);\n",
              "    animation:\n",
              "      spin 1s steps(1) infinite;\n",
              "  }\n",
              "\n",
              "  @keyframes spin {\n",
              "    0% {\n",
              "      border-color: transparent;\n",
              "      border-bottom-color: var(--fill-color);\n",
              "      border-left-color: var(--fill-color);\n",
              "    }\n",
              "    20% {\n",
              "      border-color: transparent;\n",
              "      border-left-color: var(--fill-color);\n",
              "      border-top-color: var(--fill-color);\n",
              "    }\n",
              "    30% {\n",
              "      border-color: transparent;\n",
              "      border-left-color: var(--fill-color);\n",
              "      border-top-color: var(--fill-color);\n",
              "      border-right-color: var(--fill-color);\n",
              "    }\n",
              "    40% {\n",
              "      border-color: transparent;\n",
              "      border-right-color: var(--fill-color);\n",
              "      border-top-color: var(--fill-color);\n",
              "    }\n",
              "    60% {\n",
              "      border-color: transparent;\n",
              "      border-right-color: var(--fill-color);\n",
              "    }\n",
              "    80% {\n",
              "      border-color: transparent;\n",
              "      border-right-color: var(--fill-color);\n",
              "      border-bottom-color: var(--fill-color);\n",
              "    }\n",
              "    90% {\n",
              "      border-color: transparent;\n",
              "      border-bottom-color: var(--fill-color);\n",
              "    }\n",
              "  }\n",
              "</style>\n",
              "\n",
              "      <script>\n",
              "        async function quickchart(key) {\n",
              "          const quickchartButtonEl =\n",
              "            document.querySelector('#' + key + ' button');\n",
              "          quickchartButtonEl.disabled = true;  // To prevent multiple clicks.\n",
              "          quickchartButtonEl.classList.add('colab-df-spinner');\n",
              "          try {\n",
              "            const charts = await google.colab.kernel.invokeFunction(\n",
              "                'suggestCharts', [key], {});\n",
              "          } catch (error) {\n",
              "            console.error('Error during call to suggestCharts:', error);\n",
              "          }\n",
              "          quickchartButtonEl.classList.remove('colab-df-spinner');\n",
              "          quickchartButtonEl.classList.add('colab-df-quickchart-complete');\n",
              "        }\n",
              "        (() => {\n",
              "          let quickchartButtonEl =\n",
              "            document.querySelector('#df-8c3c6db3-e63f-4f48-9ca0-1006341e07d7 button');\n",
              "          quickchartButtonEl.style.display =\n",
              "            google.colab.kernel.accessAllowed ? 'block' : 'none';\n",
              "        })();\n",
              "      </script>\n",
              "    </div>\n",
              "\n",
              "    </div>\n",
              "  </div>\n"
            ],
            "application/vnd.google.colaboratory.intrinsic+json": {
              "type": "dataframe",
              "summary": "{\n  \"name\": \"df\",\n  \"rows\": 8,\n  \"fields\": [\n    {\n      \"column\": \"PUNT_GLOBAL\",\n      \"properties\": {\n        \"dtype\": \"number\",\n        \"std\": 172425.419320042,\n        \"min\": 0.0,\n        \"max\": 487912.0,\n        \"num_unique_values\": 8,\n        \"samples\": [\n          248.78429101969206,\n          245.0,\n          487912.0\n        ],\n        \"semantic_type\": \"\",\n        \"description\": \"\"\n      }\n    }\n  ]\n}"
            }
          },
          "metadata": {},
          "execution_count": 15
        }
      ]
    },
    {
      "cell_type": "code",
      "source": [
        "df.info()"
      ],
      "metadata": {
        "id": "uia9LcvitwDv",
        "colab": {
          "base_uri": "https://localhost:8080/"
        },
        "outputId": "f526c888-7061-41a4-c03f-8176301ae797"
      },
      "execution_count": 16,
      "outputs": [
        {
          "output_type": "stream",
          "name": "stdout",
          "text": [
            "<class 'pandas.core.frame.DataFrame'>\n",
            "Index: 487912 entries, 0 to 504871\n",
            "Data columns (total 5 columns):\n",
            " #   Column                Non-Null Count   Dtype \n",
            "---  ------                --------------   ----- \n",
            " 0   ESTU_CONSECUTIVO      487912 non-null  object\n",
            " 1   ESTU_PAIS_RESIDE      487912 non-null  object\n",
            " 2   ESTU_GENERO           487912 non-null  object\n",
            " 3   FAMI_ESTRATOVIVIENDA  487912 non-null  object\n",
            " 4   PUNT_GLOBAL           487912 non-null  int64 \n",
            "dtypes: int64(1), object(4)\n",
            "memory usage: 22.3+ MB\n"
          ]
        }
      ]
    },
    {
      "cell_type": "markdown",
      "source": [
        "## Comparación con limpieza y sin limpieza\n",
        "Para comprobar si la limpieza cambio los resultados de los análisis se comparo los datos limpios con los no limpios."
      ],
      "metadata": {
        "id": "AsH5bxQ32LHP"
      }
    },
    {
      "cell_type": "code",
      "source": [
        "# Comparación promedio\n",
        "print(\"Comparación promedio puntaje\")\n",
        "print(\"con filtro\", df['PUNT_GLOBAL'].mean())\n",
        "print(\"sin filtro\", df_copy['PUNT_GLOBAL'].mean())\n",
        "print(\"diferencia filtro y sin filtro:\", df['PUNT_GLOBAL'].mean()-df_copy['PUNT_GLOBAL'].mean())\n",
        "# Comparación numero de participantes\n",
        "print(\"\\nComparación numero de participantes\")\n",
        "print(\"con filtro:\", len(df))\n",
        "print(\"sin filtro:\", len(df_copy))\n",
        "print(\"diferencia filtro y sin filtro:\", len(df)-len(df_copy))"
      ],
      "metadata": {
        "colab": {
          "base_uri": "https://localhost:8080/"
        },
        "id": "AfQPKhCpr3bP",
        "outputId": "589766bb-ceb9-4b5a-ec6e-9a2c6041b67f"
      },
      "execution_count": 38,
      "outputs": [
        {
          "output_type": "stream",
          "name": "stdout",
          "text": [
            "Comparación promedio puntaje\n",
            "con filtro 248.78429101969206\n",
            "sin filtro 248.34710183967422\n",
            "diferencia filtro y sin filtro: 0.4371891800178389\n",
            "\n",
            "Comparación numero de participantes\n",
            "con filtro: 487912\n",
            "sin filtro: 504872\n",
            "diferencia filtro y sin filtro: -16960\n"
          ]
        }
      ]
    },
    {
      "cell_type": "markdown",
      "source": [
        "Ya que posteriormente se hacen algunos análisis comparando los generos masculino y femenino, se hace un análisis más a fondo teniendo en cuenta el genero. Esto para ver si la limpieza perjudica o Beneficia a un genero."
      ],
      "metadata": {
        "id": "OkUSbvaX2vYb"
      }
    },
    {
      "cell_type": "code",
      "source": [
        "df_femenino = df[df['ESTU_GENERO'] == 'F']\n",
        "df_copy_femenino = df_copy[df_copy['ESTU_GENERO'] == 'F']\n",
        "df_masculino = df[df['ESTU_GENERO'] == 'M']\n",
        "df_copy_masculino = df_copy[df_copy['ESTU_GENERO'] == 'M']\n",
        "# comparación promedio\n",
        "print(\"Comparación promedio puntaje femenino\")\n",
        "print(\"con filtro:\", df_femenino['PUNT_GLOBAL'].mean())\n",
        "print(\"sin filtro:\", df_copy_femenino['PUNT_GLOBAL'].mean())\n",
        "print(\"diferencia filtro y sin filtro:\", df_femenino['PUNT_GLOBAL'].mean()-df_copy_femenino['PUNT_GLOBAL'].mean())\n",
        "print(\"\\nComparación promedio puntaje masculino\")\n",
        "print(\"con filtro:\", df_masculino['PUNT_GLOBAL'].mean())\n",
        "print(\"sin filtro:\", df_copy_masculino['PUNT_GLOBAL'].mean())\n",
        "print(\"diferencia filtro y sin filtro:\", df_masculino['PUNT_GLOBAL'].mean()-df_copy_masculino['PUNT_GLOBAL'].mean())\n",
        "# Comparación numero de participantes\n",
        "print(\"\\nComparación numero de participantes femeninos\")\n",
        "print(\"con filtro:\", len(df_femenino))\n",
        "print(\"sin filtro: \",len(df_copy_femenino))\n",
        "print(\"diferencia filtro y sin filtro:\", len(df_femenino)-len(df_copy_femenino))\n",
        "print(\"\\nComparación numero de participantes masculinos\")\n",
        "print(\"con filtro:\", len(df_masculino))\n",
        "print(\"sin filtro:\", len(df_copy_masculino))\n",
        "print(\"diferencia filtro y sin filtro:\", len(df_masculino)-len(df_copy_masculino))\n"
      ],
      "metadata": {
        "colab": {
          "base_uri": "https://localhost:8080/"
        },
        "id": "wibhc84RsM1p",
        "outputId": "66b0800b-521e-45a2-d831-26b50f5994f5"
      },
      "execution_count": 34,
      "outputs": [
        {
          "output_type": "stream",
          "name": "stdout",
          "text": [
            "Comparación promedio puntaje femenino\n",
            "con filtro: 245.61198891354206\n",
            "sin filtro: 245.143091129977\n",
            "diferencia filtro y sin filtro: 0.46889778356506895\n",
            "\n",
            "Comparación promedio puntaje masculino\n",
            "con filtro: 252.64113661341156\n",
            "sin filtro: 252.2285274998686\n",
            "diferencia filtro y sin filtro: 0.41260911354297036\n",
            "\n",
            "Comparación numero de participantes femeninos\n",
            "con filtro: 267714\n",
            "sin filtro:  276572\n",
            "diferencia filtro y sin filtro: -8858\n",
            "\n",
            "Comparación numero de participantes masculinos\n",
            "con filtro: 220198\n",
            "sin filtro: 228292\n",
            "diferencia filtro y sin filtro: -8094\n"
          ]
        }
      ]
    },
    {
      "cell_type": "markdown",
      "source": [
        "## Visualización Tamaño del estrato\n",
        "La cantidad de personas que participaron en cada estrato."
      ],
      "metadata": {
        "id": "4erW4o_fiOG6"
      }
    },
    {
      "cell_type": "code",
      "source": [
        "df_gen_estra_glob = df.filter(items=[\"ESTU_GENERO\", \"FAMI_ESTRATOVIVIENDA\"])\n",
        "df_gen_estra_glob.value_counts(subset=\"FAMI_ESTRATOVIVIENDA\")"
      ],
      "metadata": {
        "id": "0VeWOV3o3Agk",
        "colab": {
          "base_uri": "https://localhost:8080/",
          "height": 335
        },
        "outputId": "c53c42c2-d863-444c-aad9-7f4a368ce30a"
      },
      "execution_count": 18,
      "outputs": [
        {
          "output_type": "execute_result",
          "data": {
            "text/plain": [
              "FAMI_ESTRATOVIVIENDA\n",
              "Estrato 2      182319\n",
              "Estrato 1      152851\n",
              "Estrato 3      103547\n",
              "Estrato 4       23462\n",
              "Sin Estrato     15631\n",
              "Estrato 5        7019\n",
              "Estrato 6        3083\n",
              "Name: count, dtype: int64"
            ],
            "text/html": [
              "<div>\n",
              "<style scoped>\n",
              "    .dataframe tbody tr th:only-of-type {\n",
              "        vertical-align: middle;\n",
              "    }\n",
              "\n",
              "    .dataframe tbody tr th {\n",
              "        vertical-align: top;\n",
              "    }\n",
              "\n",
              "    .dataframe thead th {\n",
              "        text-align: right;\n",
              "    }\n",
              "</style>\n",
              "<table border=\"1\" class=\"dataframe\">\n",
              "  <thead>\n",
              "    <tr style=\"text-align: right;\">\n",
              "      <th></th>\n",
              "      <th>count</th>\n",
              "    </tr>\n",
              "    <tr>\n",
              "      <th>FAMI_ESTRATOVIVIENDA</th>\n",
              "      <th></th>\n",
              "    </tr>\n",
              "  </thead>\n",
              "  <tbody>\n",
              "    <tr>\n",
              "      <th>Estrato 2</th>\n",
              "      <td>182319</td>\n",
              "    </tr>\n",
              "    <tr>\n",
              "      <th>Estrato 1</th>\n",
              "      <td>152851</td>\n",
              "    </tr>\n",
              "    <tr>\n",
              "      <th>Estrato 3</th>\n",
              "      <td>103547</td>\n",
              "    </tr>\n",
              "    <tr>\n",
              "      <th>Estrato 4</th>\n",
              "      <td>23462</td>\n",
              "    </tr>\n",
              "    <tr>\n",
              "      <th>Sin Estrato</th>\n",
              "      <td>15631</td>\n",
              "    </tr>\n",
              "    <tr>\n",
              "      <th>Estrato 5</th>\n",
              "      <td>7019</td>\n",
              "    </tr>\n",
              "    <tr>\n",
              "      <th>Estrato 6</th>\n",
              "      <td>3083</td>\n",
              "    </tr>\n",
              "  </tbody>\n",
              "</table>\n",
              "</div><br><label><b>dtype:</b> int64</label>"
            ]
          },
          "metadata": {},
          "execution_count": 18
        }
      ]
    },
    {
      "cell_type": "code",
      "source": [
        "plot = df_gen_estra_glob.value_counts(subset=\"FAMI_ESTRATOVIVIENDA\", normalize=True).to_list()\n",
        "labels = ['{0} ({1:.2f}%)'.format(i, j*100) for i, j in zip([\"Estrato 2\", \"Estrato 1\", \"Estrato 3\", \"Estrato 4\", \"Sin Estrato\", \"Estrato 5\", \"Estrato 6\"], plot)]\n",
        "patches, texts = plt.pie(plot, labels=[\"Estrato 2\", \"Estrato 1\", \"Estrato 3\", \"Estrato 4\", \"Sin Estrato\", \"Estrato 5\", \"Estrato 6\"])\n",
        "plt.legend(patches, labels, loc=\"upper left\")\n",
        "plt.show()"
      ],
      "metadata": {
        "colab": {
          "base_uri": "https://localhost:8080/",
          "height": 406
        },
        "id": "Cu9PHFb84RMd",
        "outputId": "b584257b-c210-4c9d-f12e-5e568885a995"
      },
      "execution_count": 73,
      "outputs": [
        {
          "output_type": "display_data",
          "data": {
            "text/plain": [
              "<Figure size 640x480 with 1 Axes>"
            ],
            "image/png": "[encoded data removed]"
          },
          "metadata": {}
        }
      ]
    },
    {
      "cell_type": "code",
      "source": [
        "df_estrato = df.filter(items=[\"FAMI_ESTRATOVIVIENDA\", \"ESTU_PAIS_RESIDE\", \"COLE_AREA_UBICACION\"])\n",
        "df_sin_estrato = df_estrato[df_estrato['FAMI_ESTRATOVIVIENDA'] == \"Sin Estrato\"]\n",
        "df_sin_estrato.value_counts(subset=\"ESTU_PAIS_RESIDE\")"
      ],
      "metadata": {
        "colab": {
          "base_uri": "https://localhost:8080/",
          "height": 429
        },
        "id": "kNYzb2VC92mj",
        "outputId": "bcd85431-6be4-406c-d749-99db3b23f23c"
      },
      "execution_count": 7,
      "outputs": [
        {
          "output_type": "execute_result",
          "data": {
            "text/plain": [
              "ESTU_PAIS_RESIDE\n",
              "COLOMBIA           15410\n",
              "VENEZUELA            208\n",
              "ECUADOR                5\n",
              "PERÚ                   2\n",
              "COSTA RICA             1\n",
              "ESTADOS UNIDOS         1\n",
              "PANAMÁ                 1\n",
              "URUGUAY                1\n",
              "VIETNAM                1\n",
              "WALLIS Y FUTUNA        1\n",
              "Name: count, dtype: int64"
            ],
            "text/html": [
              "<div>\n",
              "<style scoped>\n",
              "    .dataframe tbody tr th:only-of-type {\n",
              "        vertical-align: middle;\n",
              "    }\n",
              "\n",
              "    .dataframe tbody tr th {\n",
              "        vertical-align: top;\n",
              "    }\n",
              "\n",
              "    .dataframe thead th {\n",
              "        text-align: right;\n",
              "    }\n",
              "</style>\n",
              "<table border=\"1\" class=\"dataframe\">\n",
              "  <thead>\n",
              "    <tr style=\"text-align: right;\">\n",
              "      <th></th>\n",
              "      <th>count</th>\n",
              "    </tr>\n",
              "    <tr>\n",
              "      <th>ESTU_PAIS_RESIDE</th>\n",
              "      <th></th>\n",
              "    </tr>\n",
              "  </thead>\n",
              "  <tbody>\n",
              "    <tr>\n",
              "      <th>COLOMBIA</th>\n",
              "      <td>15410</td>\n",
              "    </tr>\n",
              "    <tr>\n",
              "      <th>VENEZUELA</th>\n",
              "      <td>208</td>\n",
              "    </tr>\n",
              "    <tr>\n",
              "      <th>ECUADOR</th>\n",
              "      <td>5</td>\n",
              "    </tr>\n",
              "    <tr>\n",
              "      <th>PERÚ</th>\n",
              "      <td>2</td>\n",
              "    </tr>\n",
              "    <tr>\n",
              "      <th>COSTA RICA</th>\n",
              "      <td>1</td>\n",
              "    </tr>\n",
              "    <tr>\n",
              "      <th>ESTADOS UNIDOS</th>\n",
              "      <td>1</td>\n",
              "    </tr>\n",
              "    <tr>\n",
              "      <th>PANAMÁ</th>\n",
              "      <td>1</td>\n",
              "    </tr>\n",
              "    <tr>\n",
              "      <th>URUGUAY</th>\n",
              "      <td>1</td>\n",
              "    </tr>\n",
              "    <tr>\n",
              "      <th>VIETNAM</th>\n",
              "      <td>1</td>\n",
              "    </tr>\n",
              "    <tr>\n",
              "      <th>WALLIS Y FUTUNA</th>\n",
              "      <td>1</td>\n",
              "    </tr>\n",
              "  </tbody>\n",
              "</table>\n",
              "</div><br><label><b>dtype:</b> int64</label>"
            ]
          },
          "metadata": {},
          "execution_count": 7
        }
      ]
    },
    {
      "cell_type": "markdown",
      "source": [
        "## Comparación estrato-genero\n",
        "Con el objetivo de ver si hay una disparidad entre los generos masculino y femenino, se hizo este análisis para comparar diferentes estadisticas entre los generos en los diferentes estratos."
      ],
      "metadata": {
        "id": "ncHQpYdbijrd"
      }
    },
    {
      "cell_type": "markdown",
      "source": [
        "### Inicialización de variables"
      ],
      "metadata": {
        "id": "4c-WhNjljv9H"
      }
    },
    {
      "cell_type": "code",
      "source": [
        "df_estrato1 = df[df['FAMI_ESTRATOVIVIENDA'] == 'Estrato 1']\n",
        "df_estrato2 = df[df['FAMI_ESTRATOVIVIENDA'] == 'Estrato 2']\n",
        "df_estrato3 = df[df['FAMI_ESTRATOVIVIENDA'] == 'Estrato 3']\n",
        "df_estrato4 = df[df['FAMI_ESTRATOVIVIENDA'] == 'Estrato 4']\n",
        "df_estrato5 = df[df['FAMI_ESTRATOVIVIENDA'] == 'Estrato 5']\n",
        "df_estrato6 = df[df['FAMI_ESTRATOVIVIENDA'] == 'Estrato 6']\n",
        "df_sin_estrato = df[df['FAMI_ESTRATOVIVIENDA'] == 'Sin Estrato']"
      ],
      "metadata": {
        "id": "pHxwEy4g-V3w"
      },
      "execution_count": 8,
      "outputs": []
    },
    {
      "cell_type": "code",
      "source": [
        "df_estrato1_femenino = df_estrato1[df_estrato1['ESTU_GENERO'] == 'F']\n",
        "df_estrato1_masculino = df_estrato1[df_estrato1['ESTU_GENERO'] == 'M']\n",
        "\n",
        "df_estrato2_femenino = df_estrato2[df_estrato2['ESTU_GENERO'] == 'F']\n",
        "df_estrato2_masculino = df_estrato2[df_estrato2['ESTU_GENERO'] == 'M']\n",
        "\n",
        "df_estrato3_femenino = df_estrato3[df_estrato3['ESTU_GENERO'] == 'F']\n",
        "df_estrato3_masculino = df_estrato3[df_estrato3['ESTU_GENERO'] == 'M']\n",
        "\n",
        "df_estrato4_femenino = df_estrato4[df_estrato4['ESTU_GENERO'] == 'F']\n",
        "df_estrato4_masculino = df_estrato4[df_estrato4['ESTU_GENERO'] == 'M']\n",
        "\n",
        "df_estrato5_femenino = df_estrato5[df_estrato5['ESTU_GENERO'] == 'F']\n",
        "df_estrato5_masculino = df_estrato5[df_estrato5['ESTU_GENERO'] == 'M']\n",
        "\n",
        "df_estrato6_femenino = df_estrato6[df_estrato6['ESTU_GENERO'] == 'F']\n",
        "df_estrato6_masculino = df_estrato6[df_estrato6['ESTU_GENERO'] == 'M']\n",
        "\n",
        "df_sin_estrato_femenino = df_sin_estrato[df_sin_estrato['ESTU_GENERO'] == 'F']\n",
        "df_sin_estrato_masculino = df_sin_estrato[df_sin_estrato['ESTU_GENERO'] == 'M']"
      ],
      "metadata": {
        "id": "I6J9ZBGyAJMO"
      },
      "execution_count": 10,
      "outputs": []
    },
    {
      "cell_type": "markdown",
      "source": [
        "### Comparación numero de participantes\n",
        "Se compara la cantidad de personas que participan por cada estrato dividiendolo en femenino y masculino."
      ],
      "metadata": {
        "id": "pUWEjilUjHjU"
      }
    },
    {
      "cell_type": "code",
      "source": [
        "estratos_femeninos_size = [len(df_estrato1_femenino),\n",
        "                      len(df_estrato2_femenino),\n",
        "                      len(df_estrato3_femenino),\n",
        "                      len(df_estrato4_femenino),\n",
        "                      len(df_estrato5_femenino),\n",
        "                      len(df_estrato6_femenino),\n",
        "                      len(df_sin_estrato_femenino)]\n",
        "estratos_masculinos_size = [len(df_estrato1_masculino),\n",
        "                       len(df_estrato2_masculino),\n",
        "                       len(df_estrato3_masculino),\n",
        "                       len(df_estrato4_masculino),\n",
        "                       len(df_estrato5_masculino),\n",
        "                       len(df_estrato6_masculino),\n",
        "                       len(df_sin_estrato_masculino)]\n",
        "\n",
        "bar_with = 0.4\n",
        "x=np.arange(7)\n",
        "plt.bar(x-0.2, estratos_femeninos_size, bar_with, color='pink')\n",
        "plt.bar(x+0.2, estratos_masculinos_size, bar_with, color='blue')\n",
        "plt.xticks(x, [\"Estrato 1\", \"Estrato 2\", \"Estrato 3\", \"Estrato 4\", \"Estrato 5\", \"Estrato 6\", \"Sin E\"])\n",
        "plt.legend([\"Femenino\", \"Masculino\"])\n",
        "plt.xlabel(\"Estratos\")\n",
        "plt.ylabel(\"numero de participantes\")\n",
        "plt.show()\n"
      ],
      "metadata": {
        "colab": {
          "base_uri": "https://localhost:8080/",
          "height": 449
        },
        "id": "Cvr0SKr3CWvV",
        "outputId": "a3f64543-7a1b-4437-e205-41e74e5a34d2"
      },
      "execution_count": 35,
      "outputs": [
        {
          "output_type": "display_data",
          "data": {
            "text/plain": [
              "<Figure size 640x480 with 1 Axes>"
            ],
            "image/png": "[encoded data removed]"
          },
          "metadata": {}
        }
      ]
    },
    {
      "cell_type": "code",
      "source": [
        "diferencia_porcentual_estrato1 = (len(df_estrato1_femenino) - len(df_estrato1_masculino))/len(df_estrato1_masculino)*100\n",
        "diferencia_porcentual_estrato2 = (len(df_estrato2_femenino) - len(df_estrato2_masculino))/len(df_estrato2_masculino)*100\n",
        "diferencia_porcentual_estrato3 = (len(df_estrato3_femenino) - len(df_estrato3_masculino))/len(df_estrato3_masculino)*100\n",
        "diferencia_porcentual_estrato4 = (len(df_estrato4_femenino) - len(df_estrato4_masculino))/len(df_estrato4_masculino)*100\n",
        "diferencia_porcentual_estrato5 = (len(df_estrato5_femenino) - len(df_estrato5_masculino))/len(df_estrato5_masculino)*100\n",
        "diferencia_porcentual_estrato6 = (len(df_estrato6_femenino) - len(df_estrato6_masculino))/len(df_estrato6_masculino)*100\n",
        "diferencia_porcentual_sin_estrato = (len(df_sin_estrato_femenino) - len(df_sin_estrato_masculino))/len(df_sin_estrato_masculino)*100\n",
        "print(f\"las mujeres tienen una diferencia con los hombres en el estrato 1 es del {round(diferencia_porcentual_estrato1, 2)}%\")\n",
        "print(f\"las mujeres tienen una diferencia con los hombres en el estrato 2 es del {round(diferencia_porcentual_estrato2, 2)}%\")\n",
        "print(f\"las mujeres tienen una diferencia con los hombres en el estrato 3 es del {round(diferencia_porcentual_estrato3, 2)}%\")\n",
        "print(f\"las mujeres tienen una diferencia con los hombres en el estrato 4 es del {round(diferencia_porcentual_estrato4, 2)}%\")\n",
        "print(f\"las mujeres tienen una diferencia con los hombres en el estrato 5 es del {round(diferencia_porcentual_estrato5, 2)}%\")\n",
        "print(f\"las mujeres tienen una diferencia con los hombres en el estrato 6 es del {round(diferencia_porcentual_estrato6, 2)}%\")\n",
        "print(f\"las mujeres tienen una diferencia con los hombres sin estrato es del {round(diferencia_porcentual_sin_estrato, 2)}%\")\n",
        "\n"
      ],
      "metadata": {
        "colab": {
          "base_uri": "https://localhost:8080/"
        },
        "id": "amNJA1dDuiJ4",
        "outputId": "f60cdf31-c9ef-4816-8f30-6b3a996844d6"
      },
      "execution_count": 36,
      "outputs": [
        {
          "output_type": "stream",
          "name": "stdout",
          "text": [
            "las mujeres tienen una diferencia con los hombres en el estrato 1 es del 46.42%\n",
            "las mujeres tienen una diferencia con los hombres en el estrato 2 es del 19.44%\n",
            "las mujeres tienen una diferencia con los hombres en el estrato 3 es del 4.53%\n",
            "las mujeres tienen una diferencia con los hombres en el estrato 4 es del -9.3%\n",
            "las mujeres tienen una diferencia con los hombres en el estrato 5 es del -7.65%\n",
            "las mujeres tienen una diferencia con los hombres en el estrato 6 es del 2.43%\n",
            "las mujeres tienen una diferencia con los hombres sin estrato es del 23.81%\n"
          ]
        }
      ]
    },
    {
      "cell_type": "markdown",
      "source": [
        "### Comparación promedios\n",
        "Se compara el promedio de cada estrato dividiendolo en masculino y femenino."
      ],
      "metadata": {
        "id": "j4uQQRcIjRyk"
      }
    },
    {
      "cell_type": "code",
      "source": [
        "estratos_masculinos_promedio = [df_estrato1_masculino['PUNT_GLOBAL'].mean(),\n",
        "                                df_estrato2_masculino['PUNT_GLOBAL'].mean(),\n",
        "                                df_estrato3_masculino['PUNT_GLOBAL'].mean(),\n",
        "                                df_estrato4_masculino['PUNT_GLOBAL'].mean(),\n",
        "                                df_estrato5_masculino['PUNT_GLOBAL'].mean(),\n",
        "                                df_estrato6_masculino['PUNT_GLOBAL'].mean(),\n",
        "                                df_sin_estrato_masculino['PUNT_GLOBAL'].mean()]\n",
        "estratos_femenino_promedio = [df_estrato1_femenino['PUNT_GLOBAL'].mean(),\n",
        "                                df_estrato2_femenino['PUNT_GLOBAL'].mean(),\n",
        "                                df_estrato3_femenino['PUNT_GLOBAL'].mean(),\n",
        "                                df_estrato4_femenino['PUNT_GLOBAL'].mean(),\n",
        "                                df_estrato5_femenino['PUNT_GLOBAL'].mean(),\n",
        "                                df_estrato6_femenino['PUNT_GLOBAL'].mean(),\n",
        "                                df_sin_estrato_femenino['PUNT_GLOBAL'].mean()]\n",
        "bar_with = 0.4\n",
        "x=np.arange(7)\n",
        "plt.bar(x-0.2, estratos_femenino_promedio, bar_with, color='pink')\n",
        "plt.bar(x+0.2, estratos_masculinos_promedio, bar_with, color='blue')\n",
        "plt.xticks(x, [\"Estrato 1\", \"Estrato 2\", \"Estrato 3\", \"Estrato 4\", \"Estrato 5\", \"Estrato 6\", \"Sin E\"])\n",
        "plt.legend([\"Femenino\", \"Masculino\"])\n",
        "plt.xlabel(\"Estratos\")\n",
        "plt.ylabel(\"Promedio de puntaje\")\n",
        "plt.show()"
      ],
      "metadata": {
        "colab": {
          "base_uri": "https://localhost:8080/",
          "height": 449
        },
        "id": "51fIRrHDMuTa",
        "outputId": "d0564c7a-6204-40ad-89a9-6717973bee96"
      },
      "execution_count": 13,
      "outputs": [
        {
          "output_type": "display_data",
          "data": {
            "text/plain": [
              "<Figure size 640x480 with 1 Axes>"
            ],
            "image/png": "[encoded data removed]"
          },
          "metadata": {}
        }
      ]
    },
    {
      "cell_type": "code",
      "source": [
        "df_femeninos = df[df['ESTU_GENERO'] == 'F' ]\n",
        "df_masculinos = df[df['ESTU_GENERO'] == 'M' ]\n",
        "promedios_femeninos = df_femeninos['PUNT_GLOBAL'].to_list()\n",
        "plt.boxplot(promedios_femeninos)\n",
        "plt.show()"
      ],
      "metadata": {
        "id": "uCzJTqmaREHc",
        "colab": {
          "base_uri": "https://localhost:8080/",
          "height": 430
        },
        "outputId": "62a1e89e-d4a9-4046-a478-d9a785587c7f"
      },
      "execution_count": 39,
      "outputs": [
        {
          "output_type": "display_data",
          "data": {
            "text/plain": [
              "<Figure size 640x480 with 1 Axes>"
            ],
            "image/png": "[encoded data removed]"
          },
          "metadata": {}
        }
      ]
    }
  ]
}