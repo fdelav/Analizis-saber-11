{
  "nbformat": 4,
  "nbformat_minor": 0,
  "metadata": {
    "colab": {
      "provenance": [],
      "include_colab_link": true
    },
    "kernelspec": {
      "name": "python3",
      "display_name": "Python 3"
    },
    "language_info": {
      "name": "python"
    }
  },
  "cells": [
    {
      "cell_type": "markdown",
      "metadata": {
        "id": "view-in-github",
        "colab_type": "text"
      },
      "source": [
        "<a href=\"https://colab.research.google.com/github/fdelav/Analizis-saber-11/blob/main/pandas_test.ipynb\" target=\"_parent\"><img src=\"https://colab.research.google.com/assets/colab-badge.svg\" alt=\"Open In Colab\"/></a>"
      ]
    },
    {
      "cell_type": "code",
      "execution_count": null,
      "metadata": {
        "id": "LrBpbN6PrcFS"
      },
      "outputs": [],
      "source": [
        "import pandas as pd\n",
        "import numpy as np\n",
        "import matplotlib.pyplot as plt\n"
      ]
    },
    {
      "cell_type": "markdown",
      "source": [
        "## Creación y limpieza de base de datos"
      ],
      "metadata": {
        "id": "OSjpXIMfh6-m"
      }
    },
    {
      "cell_type": "code",
      "source": [
        "# Lectura del csv para sacar los datos\n",
        "df = pd.read_csv(\"/content/Saber_11__2020-2_20250728.csv\")\n",
        "# Creación de copia del data frame\n",
        "df_copy = df.copy()\n",
        "# Filtrar columnas que se utilizaran durante el análisis\n",
        "df = df.filter(items=[\"ESTU_CONSECUTIVO\", \"ESTU_PAIS_RESIDE\",\"ESTU_GENERO\", \"FAMI_ESTRATOVIVIENDA\", \"PUNT_GLOBAL\"])\n",
        "# Borrar datos nulos y duplicados\n",
        "df = df.dropna()\n",
        "df = df.drop_duplicates()\n"
      ],
      "metadata": {
        "id": "1yxN2V1ytkca"
      },
      "execution_count": null,
      "outputs": []
    },
    {
      "cell_type": "code",
      "source": [
        "df.head()"
      ],
      "metadata": {
        "colab": {
          "base_uri": "https://localhost:8080/",
          "height": 206
        },
        "id": "LVhF42801uAE",
        "outputId": "775b3dda-14a3-4996-ffe3-6a57c4d830f1"
      },
      "execution_count": null,
      "outputs": [
        {
          "output_type": "execute_result",
          "data": {
            "text/plain": [
              "   ESTU_CONSECUTIVO ESTU_PAIS_RESIDE ESTU_GENERO FAMI_ESTRATOVIVIENDA  \\\n",
              "0  SB11202040211436            SUIZA           F            Estrato 2   \n",
              "1  SB11202040433216        VENEZUELA           M            Estrato 3   \n",
              "2  SB11202040244180        VENEZUELA           F            Estrato 1   \n",
              "3  SB11202040210971        VENEZUELA           M          Sin Estrato   \n",
              "4  SB11202040235382         COLOMBIA           F            Estrato 5   \n",
              "\n",
              "   PUNT_GLOBAL  \n",
              "0          244  \n",
              "1          238  \n",
              "2          325  \n",
              "3          238  \n",
              "4          202  "
            ],
            "text/html": [
              "\n",
              "  <div id=\"df-cb4cb347-3513-42c6-9414-2e289195d68c\" class=\"colab-df-container\">\n",
              "    <div>\n",
              "<style scoped>\n",
              "    .dataframe tbody tr th:only-of-type {\n",
              "        vertical-align: middle;\n",
              "    }\n",
              "\n",
              "    .dataframe tbody tr th {\n",
              "        vertical-align: top;\n",
              "    }\n",
              "\n",
              "    .dataframe thead th {\n",
              "        text-align: right;\n",
              "    }\n",
              "</style>\n",
              "<table border=\"1\" class=\"dataframe\">\n",
              "  <thead>\n",
              "    <tr style=\"text-align: right;\">\n",
              "      <th></th>\n",
              "      <th>ESTU_CONSECUTIVO</th>\n",
              "      <th>ESTU_PAIS_RESIDE</th>\n",
              "      <th>ESTU_GENERO</th>\n",
              "      <th>FAMI_ESTRATOVIVIENDA</th>\n",
              "      <th>PUNT_GLOBAL</th>\n",
              "    </tr>\n",
              "  </thead>\n",
              "  <tbody>\n",
              "    <tr>\n",
              "      <th>0</th>\n",
              "      <td>SB11202040211436</td>\n",
              "      <td>SUIZA</td>\n",
              "      <td>F</td>\n",
              "      <td>Estrato 2</td>\n",
              "      <td>244</td>\n",
              "    </tr>\n",
              "    <tr>\n",
              "      <th>1</th>\n",
              "      <td>SB11202040433216</td>\n",
              "      <td>VENEZUELA</td>\n",
              "      <td>M</td>\n",
              "      <td>Estrato 3</td>\n",
              "      <td>238</td>\n",
              "    </tr>\n",
              "    <tr>\n",
              "      <th>2</th>\n",
              "      <td>SB11202040244180</td>\n",
              "      <td>VENEZUELA</td>\n",
              "      <td>F</td>\n",
              "      <td>Estrato 1</td>\n",
              "      <td>325</td>\n",
              "    </tr>\n",
              "    <tr>\n",
              "      <th>3</th>\n",
              "      <td>SB11202040210971</td>\n",
              "      <td>VENEZUELA</td>\n",
              "      <td>M</td>\n",
              "      <td>Sin Estrato</td>\n",
              "      <td>238</td>\n",
              "    </tr>\n",
              "    <tr>\n",
              "      <th>4</th>\n",
              "      <td>SB11202040235382</td>\n",
              "      <td>COLOMBIA</td>\n",
              "      <td>F</td>\n",
              "      <td>Estrato 5</td>\n",
              "      <td>202</td>\n",
              "    </tr>\n",
              "  </tbody>\n",
              "</table>\n",
              "</div>\n",
              "    <div class=\"colab-df-buttons\">\n",
              "\n",
              "  <div class=\"colab-df-container\">\n",
              "    <button class=\"colab-df-convert\" onclick=\"convertToInteractive('df-cb4cb347-3513-42c6-9414-2e289195d68c')\"\n",
              "            title=\"Convert this dataframe to an interactive table.\"\n",
              "            style=\"display:none;\">\n",
              "\n",
              "  <svg xmlns=\"http://www.w3.org/2000/svg\" height=\"24px\" viewBox=\"0 -960 960 960\">\n",
              "    <path d=\"M120-120v-720h720v720H120Zm60-500h600v-160H180v160Zm220 220h160v-160H400v160Zm0 220h160v-160H400v160ZM180-400h160v-160H180v160Zm440 0h160v-160H620v160ZM180-180h160v-160H180v160Zm440 0h160v-160H620v160Z\"/>\n",
              "  </svg>\n",
              "    </button>\n",
              "\n",
              "  <style>\n",
              "    .colab-df-container {\n",
              "      display:flex;\n",
              "      gap: 12px;\n",
              "    }\n",
              "\n",
              "    .colab-df-convert {\n",
              "      background-color: #E8F0FE;\n",
              "      border: none;\n",
              "      border-radius: 50%;\n",
              "      cursor: pointer;\n",
              "      display: none;\n",
              "      fill: #1967D2;\n",
              "      height: 32px;\n",
              "      padding: 0 0 0 0;\n",
              "      width: 32px;\n",
              "    }\n",
              "\n",
              "    .colab-df-convert:hover {\n",
              "      background-color: #E2EBFA;\n",
              "      box-shadow: 0px 1px 2px rgba(60, 64, 67, 0.3), 0px 1px 3px 1px rgba(60, 64, 67, 0.15);\n",
              "      fill: #174EA6;\n",
              "    }\n",
              "\n",
              "    .colab-df-buttons div {\n",
              "      margin-bottom: 4px;\n",
              "    }\n",
              "\n",
              "    [theme=dark] .colab-df-convert {\n",
              "      background-color: #3B4455;\n",
              "      fill: #D2E3FC;\n",
              "    }\n",
              "\n",
              "    [theme=dark] .colab-df-convert:hover {\n",
              "      background-color: #434B5C;\n",
              "      box-shadow: 0px 1px 3px 1px rgba(0, 0, 0, 0.15);\n",
              "      filter: drop-shadow(0px 1px 2px rgba(0, 0, 0, 0.3));\n",
              "      fill: #FFFFFF;\n",
              "    }\n",
              "  </style>\n",
              "\n",
              "    <script>\n",
              "      const buttonEl =\n",
              "        document.querySelector('#df-cb4cb347-3513-42c6-9414-2e289195d68c button.colab-df-convert');\n",
              "      buttonEl.style.display =\n",
              "        google.colab.kernel.accessAllowed ? 'block' : 'none';\n",
              "\n",
              "      async function convertToInteractive(key) {\n",
              "        const element = document.querySelector('#df-cb4cb347-3513-42c6-9414-2e289195d68c');\n",
              "        const dataTable =\n",
              "          await google.colab.kernel.invokeFunction('convertToInteractive',\n",
              "                                                    [key], {});\n",
              "        if (!dataTable) return;\n",
              "\n",
              "        const docLinkHtml = 'Like what you see? Visit the ' +\n",
              "          '<a target=\"_blank\" href=https://colab.research.google.com/notebooks/data_table.ipynb>data table notebook</a>'\n",
              "          + ' to learn more about interactive tables.';\n",
              "        element.innerHTML = '';\n",
              "        dataTable['output_type'] = 'display_data';\n",
              "        await google.colab.output.renderOutput(dataTable, element);\n",
              "        const docLink = document.createElement('div');\n",
              "        docLink.innerHTML = docLinkHtml;\n",
              "        element.appendChild(docLink);\n",
              "      }\n",
              "    </script>\n",
              "  </div>\n",
              "\n",
              "\n",
              "    <div id=\"df-7c609b83-016d-45d4-a080-d3d4c7d10177\">\n",
              "      <button class=\"colab-df-quickchart\" onclick=\"quickchart('df-7c609b83-016d-45d4-a080-d3d4c7d10177')\"\n",
              "                title=\"Suggest charts\"\n",
              "                style=\"display:none;\">\n",
              "\n",
              "<svg xmlns=\"http://www.w3.org/2000/svg\" height=\"24px\"viewBox=\"0 0 24 24\"\n",
              "     width=\"24px\">\n",
              "    <g>\n",
              "        <path d=\"M19 3H5c-1.1 0-2 .9-2 2v14c0 1.1.9 2 2 2h14c1.1 0 2-.9 2-2V5c0-1.1-.9-2-2-2zM9 17H7v-7h2v7zm4 0h-2V7h2v10zm4 0h-2v-4h2v4z\"/>\n",
              "    </g>\n",
              "</svg>\n",
              "      </button>\n",
              "\n",
              "<style>\n",
              "  .colab-df-quickchart {\n",
              "      --bg-color: #E8F0FE;\n",
              "      --fill-color: #1967D2;\n",
              "      --hover-bg-color: #E2EBFA;\n",
              "      --hover-fill-color: #174EA6;\n",
              "      --disabled-fill-color: #AAA;\n",
              "      --disabled-bg-color: #DDD;\n",
              "  }\n",
              "\n",
              "  [theme=dark] .colab-df-quickchart {\n",
              "      --bg-color: #3B4455;\n",
              "      --fill-color: #D2E3FC;\n",
              "      --hover-bg-color: #434B5C;\n",
              "      --hover-fill-color: #FFFFFF;\n",
              "      --disabled-bg-color: #3B4455;\n",
              "      --disabled-fill-color: #666;\n",
              "  }\n",
              "\n",
              "  .colab-df-quickchart {\n",
              "    background-color: var(--bg-color);\n",
              "    border: none;\n",
              "    border-radius: 50%;\n",
              "    cursor: pointer;\n",
              "    display: none;\n",
              "    fill: var(--fill-color);\n",
              "    height: 32px;\n",
              "    padding: 0;\n",
              "    width: 32px;\n",
              "  }\n",
              "\n",
              "  .colab-df-quickchart:hover {\n",
              "    background-color: var(--hover-bg-color);\n",
              "    box-shadow: 0 1px 2px rgba(60, 64, 67, 0.3), 0 1px 3px 1px rgba(60, 64, 67, 0.15);\n",
              "    fill: var(--button-hover-fill-color);\n",
              "  }\n",
              "\n",
              "  .colab-df-quickchart-complete:disabled,\n",
              "  .colab-df-quickchart-complete:disabled:hover {\n",
              "    background-color: var(--disabled-bg-color);\n",
              "    fill: var(--disabled-fill-color);\n",
              "    box-shadow: none;\n",
              "  }\n",
              "\n",
              "  .colab-df-spinner {\n",
              "    border: 2px solid var(--fill-color);\n",
              "    border-color: transparent;\n",
              "    border-bottom-color: var(--fill-color);\n",
              "    animation:\n",
              "      spin 1s steps(1) infinite;\n",
              "  }\n",
              "\n",
              "  @keyframes spin {\n",
              "    0% {\n",
              "      border-color: transparent;\n",
              "      border-bottom-color: var(--fill-color);\n",
              "      border-left-color: var(--fill-color);\n",
              "    }\n",
              "    20% {\n",
              "      border-color: transparent;\n",
              "      border-left-color: var(--fill-color);\n",
              "      border-top-color: var(--fill-color);\n",
              "    }\n",
              "    30% {\n",
              "      border-color: transparent;\n",
              "      border-left-color: var(--fill-color);\n",
              "      border-top-color: var(--fill-color);\n",
              "      border-right-color: var(--fill-color);\n",
              "    }\n",
              "    40% {\n",
              "      border-color: transparent;\n",
              "      border-right-color: var(--fill-color);\n",
              "      border-top-color: var(--fill-color);\n",
              "    }\n",
              "    60% {\n",
              "      border-color: transparent;\n",
              "      border-right-color: var(--fill-color);\n",
              "    }\n",
              "    80% {\n",
              "      border-color: transparent;\n",
              "      border-right-color: var(--fill-color);\n",
              "      border-bottom-color: var(--fill-color);\n",
              "    }\n",
              "    90% {\n",
              "      border-color: transparent;\n",
              "      border-bottom-color: var(--fill-color);\n",
              "    }\n",
              "  }\n",
              "</style>\n",
              "\n",
              "      <script>\n",
              "        async function quickchart(key) {\n",
              "          const quickchartButtonEl =\n",
              "            document.querySelector('#' + key + ' button');\n",
              "          quickchartButtonEl.disabled = true;  // To prevent multiple clicks.\n",
              "          quickchartButtonEl.classList.add('colab-df-spinner');\n",
              "          try {\n",
              "            const charts = await google.colab.kernel.invokeFunction(\n",
              "                'suggestCharts', [key], {});\n",
              "          } catch (error) {\n",
              "            console.error('Error during call to suggestCharts:', error);\n",
              "          }\n",
              "          quickchartButtonEl.classList.remove('colab-df-spinner');\n",
              "          quickchartButtonEl.classList.add('colab-df-quickchart-complete');\n",
              "        }\n",
              "        (() => {\n",
              "          let quickchartButtonEl =\n",
              "            document.querySelector('#df-7c609b83-016d-45d4-a080-d3d4c7d10177 button');\n",
              "          quickchartButtonEl.style.display =\n",
              "            google.colab.kernel.accessAllowed ? 'block' : 'none';\n",
              "        })();\n",
              "      </script>\n",
              "    </div>\n",
              "\n",
              "    </div>\n",
              "  </div>\n"
            ],
            "application/vnd.google.colaboratory.intrinsic+json": {
              "type": "dataframe",
              "variable_name": "df"
            }
          },
          "metadata": {},
          "execution_count": 3
        }
      ]
    },
    {
      "cell_type": "code",
      "source": [
        "df.describe()"
      ],
      "metadata": {
        "colab": {
          "base_uri": "https://localhost:8080/",
          "height": 300
        },
        "id": "SnXTJYMLhSAk",
        "outputId": "111a6257-305c-4058-aa54-c4b993d4a5c1"
      },
      "execution_count": null,
      "outputs": [
        {
          "output_type": "execute_result",
          "data": {
            "text/plain": [
              "         PUNT_GLOBAL\n",
              "count  487912.000000\n",
              "mean      248.784291\n",
              "std        48.410151\n",
              "min         0.000000\n",
              "25%       212.000000\n",
              "50%       245.000000\n",
              "75%       282.000000\n",
              "max       500.000000"
            ],
            "text/html": [
              "\n",
              "  <div id=\"df-f6d9a2c1-dda3-499a-bd29-59543f7cde47\" class=\"colab-df-container\">\n",
              "    <div>\n",
              "<style scoped>\n",
              "    .dataframe tbody tr th:only-of-type {\n",
              "        vertical-align: middle;\n",
              "    }\n",
              "\n",
              "    .dataframe tbody tr th {\n",
              "        vertical-align: top;\n",
              "    }\n",
              "\n",
              "    .dataframe thead th {\n",
              "        text-align: right;\n",
              "    }\n",
              "</style>\n",
              "<table border=\"1\" class=\"dataframe\">\n",
              "  <thead>\n",
              "    <tr style=\"text-align: right;\">\n",
              "      <th></th>\n",
              "      <th>PUNT_GLOBAL</th>\n",
              "    </tr>\n",
              "  </thead>\n",
              "  <tbody>\n",
              "    <tr>\n",
              "      <th>count</th>\n",
              "      <td>487912.000000</td>\n",
              "    </tr>\n",
              "    <tr>\n",
              "      <th>mean</th>\n",
              "      <td>248.784291</td>\n",
              "    </tr>\n",
              "    <tr>\n",
              "      <th>std</th>\n",
              "      <td>48.410151</td>\n",
              "    </tr>\n",
              "    <tr>\n",
              "      <th>min</th>\n",
              "      <td>0.000000</td>\n",
              "    </tr>\n",
              "    <tr>\n",
              "      <th>25%</th>\n",
              "      <td>212.000000</td>\n",
              "    </tr>\n",
              "    <tr>\n",
              "      <th>50%</th>\n",
              "      <td>245.000000</td>\n",
              "    </tr>\n",
              "    <tr>\n",
              "      <th>75%</th>\n",
              "      <td>282.000000</td>\n",
              "    </tr>\n",
              "    <tr>\n",
              "      <th>max</th>\n",
              "      <td>500.000000</td>\n",
              "    </tr>\n",
              "  </tbody>\n",
              "</table>\n",
              "</div>\n",
              "    <div class=\"colab-df-buttons\">\n",
              "\n",
              "  <div class=\"colab-df-container\">\n",
              "    <button class=\"colab-df-convert\" onclick=\"convertToInteractive('df-f6d9a2c1-dda3-499a-bd29-59543f7cde47')\"\n",
              "            title=\"Convert this dataframe to an interactive table.\"\n",
              "            style=\"display:none;\">\n",
              "\n",
              "  <svg xmlns=\"http://www.w3.org/2000/svg\" height=\"24px\" viewBox=\"0 -960 960 960\">\n",
              "    <path d=\"M120-120v-720h720v720H120Zm60-500h600v-160H180v160Zm220 220h160v-160H400v160Zm0 220h160v-160H400v160ZM180-400h160v-160H180v160Zm440 0h160v-160H620v160ZM180-180h160v-160H180v160Zm440 0h160v-160H620v160Z\"/>\n",
              "  </svg>\n",
              "    </button>\n",
              "\n",
              "  <style>\n",
              "    .colab-df-container {\n",
              "      display:flex;\n",
              "      gap: 12px;\n",
              "    }\n",
              "\n",
              "    .colab-df-convert {\n",
              "      background-color: #E8F0FE;\n",
              "      border: none;\n",
              "      border-radius: 50%;\n",
              "      cursor: pointer;\n",
              "      display: none;\n",
              "      fill: #1967D2;\n",
              "      height: 32px;\n",
              "      padding: 0 0 0 0;\n",
              "      width: 32px;\n",
              "    }\n",
              "\n",
              "    .colab-df-convert:hover {\n",
              "      background-color: #E2EBFA;\n",
              "      box-shadow: 0px 1px 2px rgba(60, 64, 67, 0.3), 0px 1px 3px 1px rgba(60, 64, 67, 0.15);\n",
              "      fill: #174EA6;\n",
              "    }\n",
              "\n",
              "    .colab-df-buttons div {\n",
              "      margin-bottom: 4px;\n",
              "    }\n",
              "\n",
              "    [theme=dark] .colab-df-convert {\n",
              "      background-color: #3B4455;\n",
              "      fill: #D2E3FC;\n",
              "    }\n",
              "\n",
              "    [theme=dark] .colab-df-convert:hover {\n",
              "      background-color: #434B5C;\n",
              "      box-shadow: 0px 1px 3px 1px rgba(0, 0, 0, 0.15);\n",
              "      filter: drop-shadow(0px 1px 2px rgba(0, 0, 0, 0.3));\n",
              "      fill: #FFFFFF;\n",
              "    }\n",
              "  </style>\n",
              "\n",
              "    <script>\n",
              "      const buttonEl =\n",
              "        document.querySelector('#df-f6d9a2c1-dda3-499a-bd29-59543f7cde47 button.colab-df-convert');\n",
              "      buttonEl.style.display =\n",
              "        google.colab.kernel.accessAllowed ? 'block' : 'none';\n",
              "\n",
              "      async function convertToInteractive(key) {\n",
              "        const element = document.querySelector('#df-f6d9a2c1-dda3-499a-bd29-59543f7cde47');\n",
              "        const dataTable =\n",
              "          await google.colab.kernel.invokeFunction('convertToInteractive',\n",
              "                                                    [key], {});\n",
              "        if (!dataTable) return;\n",
              "\n",
              "        const docLinkHtml = 'Like what you see? Visit the ' +\n",
              "          '<a target=\"_blank\" href=https://colab.research.google.com/notebooks/data_table.ipynb>data table notebook</a>'\n",
              "          + ' to learn more about interactive tables.';\n",
              "        element.innerHTML = '';\n",
              "        dataTable['output_type'] = 'display_data';\n",
              "        await google.colab.output.renderOutput(dataTable, element);\n",
              "        const docLink = document.createElement('div');\n",
              "        docLink.innerHTML = docLinkHtml;\n",
              "        element.appendChild(docLink);\n",
              "      }\n",
              "    </script>\n",
              "  </div>\n",
              "\n",
              "\n",
              "    <div id=\"df-0ae90558-e257-4da9-bf1b-42816498c3cd\">\n",
              "      <button class=\"colab-df-quickchart\" onclick=\"quickchart('df-0ae90558-e257-4da9-bf1b-42816498c3cd')\"\n",
              "                title=\"Suggest charts\"\n",
              "                style=\"display:none;\">\n",
              "\n",
              "<svg xmlns=\"http://www.w3.org/2000/svg\" height=\"24px\"viewBox=\"0 0 24 24\"\n",
              "     width=\"24px\">\n",
              "    <g>\n",
              "        <path d=\"M19 3H5c-1.1 0-2 .9-2 2v14c0 1.1.9 2 2 2h14c1.1 0 2-.9 2-2V5c0-1.1-.9-2-2-2zM9 17H7v-7h2v7zm4 0h-2V7h2v10zm4 0h-2v-4h2v4z\"/>\n",
              "    </g>\n",
              "</svg>\n",
              "      </button>\n",
              "\n",
              "<style>\n",
              "  .colab-df-quickchart {\n",
              "      --bg-color: #E8F0FE;\n",
              "      --fill-color: #1967D2;\n",
              "      --hover-bg-color: #E2EBFA;\n",
              "      --hover-fill-color: #174EA6;\n",
              "      --disabled-fill-color: #AAA;\n",
              "      --disabled-bg-color: #DDD;\n",
              "  }\n",
              "\n",
              "  [theme=dark] .colab-df-quickchart {\n",
              "      --bg-color: #3B4455;\n",
              "      --fill-color: #D2E3FC;\n",
              "      --hover-bg-color: #434B5C;\n",
              "      --hover-fill-color: #FFFFFF;\n",
              "      --disabled-bg-color: #3B4455;\n",
              "      --disabled-fill-color: #666;\n",
              "  }\n",
              "\n",
              "  .colab-df-quickchart {\n",
              "    background-color: var(--bg-color);\n",
              "    border: none;\n",
              "    border-radius: 50%;\n",
              "    cursor: pointer;\n",
              "    display: none;\n",
              "    fill: var(--fill-color);\n",
              "    height: 32px;\n",
              "    padding: 0;\n",
              "    width: 32px;\n",
              "  }\n",
              "\n",
              "  .colab-df-quickchart:hover {\n",
              "    background-color: var(--hover-bg-color);\n",
              "    box-shadow: 0 1px 2px rgba(60, 64, 67, 0.3), 0 1px 3px 1px rgba(60, 64, 67, 0.15);\n",
              "    fill: var(--button-hover-fill-color);\n",
              "  }\n",
              "\n",
              "  .colab-df-quickchart-complete:disabled,\n",
              "  .colab-df-quickchart-complete:disabled:hover {\n",
              "    background-color: var(--disabled-bg-color);\n",
              "    fill: var(--disabled-fill-color);\n",
              "    box-shadow: none;\n",
              "  }\n",
              "\n",
              "  .colab-df-spinner {\n",
              "    border: 2px solid var(--fill-color);\n",
              "    border-color: transparent;\n",
              "    border-bottom-color: var(--fill-color);\n",
              "    animation:\n",
              "      spin 1s steps(1) infinite;\n",
              "  }\n",
              "\n",
              "  @keyframes spin {\n",
              "    0% {\n",
              "      border-color: transparent;\n",
              "      border-bottom-color: var(--fill-color);\n",
              "      border-left-color: var(--fill-color);\n",
              "    }\n",
              "    20% {\n",
              "      border-color: transparent;\n",
              "      border-left-color: var(--fill-color);\n",
              "      border-top-color: var(--fill-color);\n",
              "    }\n",
              "    30% {\n",
              "      border-color: transparent;\n",
              "      border-left-color: var(--fill-color);\n",
              "      border-top-color: var(--fill-color);\n",
              "      border-right-color: var(--fill-color);\n",
              "    }\n",
              "    40% {\n",
              "      border-color: transparent;\n",
              "      border-right-color: var(--fill-color);\n",
              "      border-top-color: var(--fill-color);\n",
              "    }\n",
              "    60% {\n",
              "      border-color: transparent;\n",
              "      border-right-color: var(--fill-color);\n",
              "    }\n",
              "    80% {\n",
              "      border-color: transparent;\n",
              "      border-right-color: var(--fill-color);\n",
              "      border-bottom-color: var(--fill-color);\n",
              "    }\n",
              "    90% {\n",
              "      border-color: transparent;\n",
              "      border-bottom-color: var(--fill-color);\n",
              "    }\n",
              "  }\n",
              "</style>\n",
              "\n",
              "      <script>\n",
              "        async function quickchart(key) {\n",
              "          const quickchartButtonEl =\n",
              "            document.querySelector('#' + key + ' button');\n",
              "          quickchartButtonEl.disabled = true;  // To prevent multiple clicks.\n",
              "          quickchartButtonEl.classList.add('colab-df-spinner');\n",
              "          try {\n",
              "            const charts = await google.colab.kernel.invokeFunction(\n",
              "                'suggestCharts', [key], {});\n",
              "          } catch (error) {\n",
              "            console.error('Error during call to suggestCharts:', error);\n",
              "          }\n",
              "          quickchartButtonEl.classList.remove('colab-df-spinner');\n",
              "          quickchartButtonEl.classList.add('colab-df-quickchart-complete');\n",
              "        }\n",
              "        (() => {\n",
              "          let quickchartButtonEl =\n",
              "            document.querySelector('#df-0ae90558-e257-4da9-bf1b-42816498c3cd button');\n",
              "          quickchartButtonEl.style.display =\n",
              "            google.colab.kernel.accessAllowed ? 'block' : 'none';\n",
              "        })();\n",
              "      </script>\n",
              "    </div>\n",
              "\n",
              "    </div>\n",
              "  </div>\n"
            ],
            "application/vnd.google.colaboratory.intrinsic+json": {
              "type": "dataframe",
              "summary": "{\n  \"name\": \"df\",\n  \"rows\": 8,\n  \"fields\": [\n    {\n      \"column\": \"PUNT_GLOBAL\",\n      \"properties\": {\n        \"dtype\": \"number\",\n        \"std\": 172425.419320042,\n        \"min\": 0.0,\n        \"max\": 487912.0,\n        \"num_unique_values\": 8,\n        \"samples\": [\n          248.78429101969206,\n          245.0,\n          487912.0\n        ],\n        \"semantic_type\": \"\",\n        \"description\": \"\"\n      }\n    }\n  ]\n}"
            }
          },
          "metadata": {},
          "execution_count": 4
        }
      ]
    },
    {
      "cell_type": "code",
      "source": [
        "df.info()"
      ],
      "metadata": {
        "id": "uia9LcvitwDv",
        "colab": {
          "base_uri": "https://localhost:8080/"
        },
        "outputId": "72ce9d11-db7f-4013-c0e7-9bdd766aea79"
      },
      "execution_count": null,
      "outputs": [
        {
          "output_type": "stream",
          "name": "stdout",
          "text": [
            "<class 'pandas.core.frame.DataFrame'>\n",
            "Index: 487912 entries, 0 to 504871\n",
            "Data columns (total 5 columns):\n",
            " #   Column                Non-Null Count   Dtype \n",
            "---  ------                --------------   ----- \n",
            " 0   ESTU_CONSECUTIVO      487912 non-null  object\n",
            " 1   ESTU_PAIS_RESIDE      487912 non-null  object\n",
            " 2   ESTU_GENERO           487912 non-null  object\n",
            " 3   FAMI_ESTRATOVIVIENDA  487912 non-null  object\n",
            " 4   PUNT_GLOBAL           487912 non-null  int64 \n",
            "dtypes: int64(1), object(4)\n",
            "memory usage: 22.3+ MB\n"
          ]
        }
      ]
    },
    {
      "cell_type": "markdown",
      "source": [
        "## Comparación con limpieza y sin limpieza\n",
        "Para comprobar si la limpieza cambio los resultados de los análisis se comparo los datos limpios con los no limpios."
      ],
      "metadata": {
        "id": "AsH5bxQ32LHP"
      }
    },
    {
      "cell_type": "code",
      "source": [
        "# Comparación promedio\n",
        "print(\"Comparación promedio puntaje\")\n",
        "print(\"con filtro\", df['PUNT_GLOBAL'].mean())\n",
        "print(\"sin filtro\", df_copy['PUNT_GLOBAL'].mean())\n",
        "print(\"diferencia filtro y sin filtro:\", df['PUNT_GLOBAL'].mean()-df_copy['PUNT_GLOBAL'].mean())\n",
        "# Comparación numero de participantes\n",
        "print(\"\\nComparación numero de participantes\")\n",
        "print(\"con filtro:\", len(df))\n",
        "print(\"sin filtro:\", len(df_copy))\n",
        "print(\"diferencia filtro y sin filtro:\", len(df)-len(df_copy))"
      ],
      "metadata": {
        "colab": {
          "base_uri": "https://localhost:8080/"
        },
        "id": "AfQPKhCpr3bP",
        "outputId": "458cb52f-2b98-4345-b4b8-55666c518d33"
      },
      "execution_count": null,
      "outputs": [
        {
          "output_type": "stream",
          "name": "stdout",
          "text": [
            "Comparación promedio puntaje\n",
            "con filtro 248.78429101969206\n",
            "sin filtro 248.34710183967422\n",
            "diferencia filtro y sin filtro: 0.4371891800178389\n",
            "\n",
            "Comparación numero de participantes\n",
            "con filtro: 487912\n",
            "sin filtro: 504872\n",
            "diferencia filtro y sin filtro: -16960\n"
          ]
        }
      ]
    },
    {
      "cell_type": "markdown",
      "source": [
        "Ya que posteriormente se hacen algunos análisis comparando los generos masculino y femenino, se hace un análisis más a fondo teniendo en cuenta el genero. Esto para ver si la limpieza perjudica o Beneficia a un genero."
      ],
      "metadata": {
        "id": "OkUSbvaX2vYb"
      }
    },
    {
      "cell_type": "code",
      "source": [
        "df_femenino = df[df['ESTU_GENERO'] == 'F']\n",
        "df_copy_femenino = df_copy[df_copy['ESTU_GENERO'] == 'F']\n",
        "df_masculino = df[df['ESTU_GENERO'] == 'M']\n",
        "df_copy_masculino = df_copy[df_copy['ESTU_GENERO'] == 'M']\n",
        "# comparación promedio\n",
        "print(\"Comparación promedio puntaje femenino\")\n",
        "print(\"con filtro:\", df_femenino['PUNT_GLOBAL'].mean())\n",
        "print(\"sin filtro:\", df_copy_femenino['PUNT_GLOBAL'].mean())\n",
        "print(\"diferencia filtro y sin filtro:\", df_femenino['PUNT_GLOBAL'].mean()-df_copy_femenino['PUNT_GLOBAL'].mean())\n",
        "print(\"\\nComparación promedio puntaje masculino\")\n",
        "print(\"con filtro:\", df_masculino['PUNT_GLOBAL'].mean())\n",
        "print(\"sin filtro:\", df_copy_masculino['PUNT_GLOBAL'].mean())\n",
        "print(\"diferencia filtro y sin filtro:\", df_masculino['PUNT_GLOBAL'].mean()-df_copy_masculino['PUNT_GLOBAL'].mean())\n",
        "# Comparación numero de participantes\n",
        "print(\"\\nComparación numero de participantes femeninos\")\n",
        "print(\"con filtro:\", len(df_femenino))\n",
        "print(\"sin filtro: \",len(df_copy_femenino))\n",
        "print(\"diferencia filtro y sin filtro:\", len(df_femenino)-len(df_copy_femenino))\n",
        "print(\"\\nComparación numero de participantes masculinos\")\n",
        "print(\"con filtro:\", len(df_masculino))\n",
        "print(\"sin filtro:\", len(df_copy_masculino))\n",
        "print(\"diferencia filtro y sin filtro:\", len(df_masculino)-len(df_copy_masculino))\n"
      ],
      "metadata": {
        "colab": {
          "base_uri": "https://localhost:8080/"
        },
        "id": "wibhc84RsM1p",
        "outputId": "487e2720-6be6-4f5b-c514-582ea30ec9df"
      },
      "execution_count": null,
      "outputs": [
        {
          "output_type": "stream",
          "name": "stdout",
          "text": [
            "Comparación promedio puntaje femenino\n",
            "con filtro: 245.61198891354206\n",
            "sin filtro: 245.143091129977\n",
            "diferencia filtro y sin filtro: 0.46889778356506895\n",
            "\n",
            "Comparación promedio puntaje masculino\n",
            "con filtro: 252.64113661341156\n",
            "sin filtro: 252.2285274998686\n",
            "diferencia filtro y sin filtro: 0.41260911354297036\n",
            "\n",
            "Comparación numero de participantes femeninos\n",
            "con filtro: 267714\n",
            "sin filtro:  276572\n",
            "diferencia filtro y sin filtro: -8858\n",
            "\n",
            "Comparación numero de participantes masculinos\n",
            "con filtro: 220198\n",
            "sin filtro: 228292\n",
            "diferencia filtro y sin filtro: -8094\n"
          ]
        }
      ]
    },
    {
      "cell_type": "markdown",
      "source": [
        "## Visualización Tamaño del estrato\n",
        "La cantidad de personas que participaron en cada estrato."
      ],
      "metadata": {
        "id": "4erW4o_fiOG6"
      }
    },
    {
      "cell_type": "code",
      "source": [
        "df_gen_estra_glob = df.filter(items=[\"ESTU_GENERO\", \"FAMI_ESTRATOVIVIENDA\"])\n",
        "df_gen_estra_glob.value_counts(subset=\"FAMI_ESTRATOVIVIENDA\")"
      ],
      "metadata": {
        "id": "0VeWOV3o3Agk",
        "colab": {
          "base_uri": "https://localhost:8080/",
          "height": 335
        },
        "outputId": "57109459-24dc-4dd7-97bb-0305bfe32add"
      },
      "execution_count": null,
      "outputs": [
        {
          "output_type": "execute_result",
          "data": {
            "text/plain": [
              "FAMI_ESTRATOVIVIENDA\n",
              "Estrato 2      182319\n",
              "Estrato 1      152851\n",
              "Estrato 3      103547\n",
              "Estrato 4       23462\n",
              "Sin Estrato     15631\n",
              "Estrato 5        7019\n",
              "Estrato 6        3083\n",
              "Name: count, dtype: int64"
            ],
            "text/html": [
              "<div>\n",
              "<style scoped>\n",
              "    .dataframe tbody tr th:only-of-type {\n",
              "        vertical-align: middle;\n",
              "    }\n",
              "\n",
              "    .dataframe tbody tr th {\n",
              "        vertical-align: top;\n",
              "    }\n",
              "\n",
              "    .dataframe thead th {\n",
              "        text-align: right;\n",
              "    }\n",
              "</style>\n",
              "<table border=\"1\" class=\"dataframe\">\n",
              "  <thead>\n",
              "    <tr style=\"text-align: right;\">\n",
              "      <th></th>\n",
              "      <th>count</th>\n",
              "    </tr>\n",
              "    <tr>\n",
              "      <th>FAMI_ESTRATOVIVIENDA</th>\n",
              "      <th></th>\n",
              "    </tr>\n",
              "  </thead>\n",
              "  <tbody>\n",
              "    <tr>\n",
              "      <th>Estrato 2</th>\n",
              "      <td>182319</td>\n",
              "    </tr>\n",
              "    <tr>\n",
              "      <th>Estrato 1</th>\n",
              "      <td>152851</td>\n",
              "    </tr>\n",
              "    <tr>\n",
              "      <th>Estrato 3</th>\n",
              "      <td>103547</td>\n",
              "    </tr>\n",
              "    <tr>\n",
              "      <th>Estrato 4</th>\n",
              "      <td>23462</td>\n",
              "    </tr>\n",
              "    <tr>\n",
              "      <th>Sin Estrato</th>\n",
              "      <td>15631</td>\n",
              "    </tr>\n",
              "    <tr>\n",
              "      <th>Estrato 5</th>\n",
              "      <td>7019</td>\n",
              "    </tr>\n",
              "    <tr>\n",
              "      <th>Estrato 6</th>\n",
              "      <td>3083</td>\n",
              "    </tr>\n",
              "  </tbody>\n",
              "</table>\n",
              "</div><br><label><b>dtype:</b> int64</label>"
            ]
          },
          "metadata": {},
          "execution_count": 8
        }
      ]
    },
    {
      "cell_type": "code",
      "source": [
        "plot = df_gen_estra_glob.value_counts(subset=\"FAMI_ESTRATOVIVIENDA\", normalize=True).to_list()\n",
        "labels = ['{0} ({1:.2f}%)'.format(i, j*100) for i, j in zip([\"Estrato 2\", \"Estrato 1\", \"Estrato 3\", \"Estrato 4\", \"Sin Estrato\", \"Estrato 5\", \"Estrato 6\"], plot)]\n",
        "patches, texts = plt.pie(plot, labels=[\"Estrato 2\", \"Estrato 1\", \"Estrato 3\", \"Estrato 4\", \"Sin Estrato\", \"Estrato 5\", \"Estrato 6\"])\n",
        "plt.legend(patches, labels, loc=\"upper left\")\n",
        "plt.show()"
      ],
      "metadata": {
        "colab": {
          "base_uri": "https://localhost:8080/",
          "height": 406
        },
        "id": "Cu9PHFb84RMd",
        "outputId": "c2e274ef-64ba-4861-fc32-6ae9f0cb60f5"
      },
      "execution_count": null,
      "outputs": [
        {
          "output_type": "display_data",
          "data": {
            "text/plain": [
              "<Figure size 640x480 with 1 Axes>"
            ],
            "image/png": "[encoded data removed]"
          },
          "metadata": {}
        }
      ]
    },
    {
      "cell_type": "code",
      "source": [
        "df_estrato = df.filter(items=[\"FAMI_ESTRATOVIVIENDA\", \"ESTU_PAIS_RESIDE\", \"COLE_AREA_UBICACION\"])\n",
        "df_sin_estrato = df_estrato[df_estrato['FAMI_ESTRATOVIVIENDA'] == \"Sin Estrato\"]\n",
        "df_sin_estrato.value_counts(subset=\"ESTU_PAIS_RESIDE\")"
      ],
      "metadata": {
        "colab": {
          "base_uri": "https://localhost:8080/",
          "height": 429
        },
        "id": "kNYzb2VC92mj",
        "outputId": "5d51664f-574d-499f-a7f0-0f15b53f78a4"
      },
      "execution_count": null,
      "outputs": [
        {
          "output_type": "execute_result",
          "data": {
            "text/plain": [
              "ESTU_PAIS_RESIDE\n",
              "COLOMBIA           15410\n",
              "VENEZUELA            208\n",
              "ECUADOR                5\n",
              "PERÚ                   2\n",
              "COSTA RICA             1\n",
              "ESTADOS UNIDOS         1\n",
              "PANAMÁ                 1\n",
              "URUGUAY                1\n",
              "VIETNAM                1\n",
              "WALLIS Y FUTUNA        1\n",
              "Name: count, dtype: int64"
            ],
            "text/html": [
              "<div>\n",
              "<style scoped>\n",
              "    .dataframe tbody tr th:only-of-type {\n",
              "        vertical-align: middle;\n",
              "    }\n",
              "\n",
              "    .dataframe tbody tr th {\n",
              "        vertical-align: top;\n",
              "    }\n",
              "\n",
              "    .dataframe thead th {\n",
              "        text-align: right;\n",
              "    }\n",
              "</style>\n",
              "<table border=\"1\" class=\"dataframe\">\n",
              "  <thead>\n",
              "    <tr style=\"text-align: right;\">\n",
              "      <th></th>\n",
              "      <th>count</th>\n",
              "    </tr>\n",
              "    <tr>\n",
              "      <th>ESTU_PAIS_RESIDE</th>\n",
              "      <th></th>\n",
              "    </tr>\n",
              "  </thead>\n",
              "  <tbody>\n",
              "    <tr>\n",
              "      <th>COLOMBIA</th>\n",
              "      <td>15410</td>\n",
              "    </tr>\n",
              "    <tr>\n",
              "      <th>VENEZUELA</th>\n",
              "      <td>208</td>\n",
              "    </tr>\n",
              "    <tr>\n",
              "      <th>ECUADOR</th>\n",
              "      <td>5</td>\n",
              "    </tr>\n",
              "    <tr>\n",
              "      <th>PERÚ</th>\n",
              "      <td>2</td>\n",
              "    </tr>\n",
              "    <tr>\n",
              "      <th>COSTA RICA</th>\n",
              "      <td>1</td>\n",
              "    </tr>\n",
              "    <tr>\n",
              "      <th>ESTADOS UNIDOS</th>\n",
              "      <td>1</td>\n",
              "    </tr>\n",
              "    <tr>\n",
              "      <th>PANAMÁ</th>\n",
              "      <td>1</td>\n",
              "    </tr>\n",
              "    <tr>\n",
              "      <th>URUGUAY</th>\n",
              "      <td>1</td>\n",
              "    </tr>\n",
              "    <tr>\n",
              "      <th>VIETNAM</th>\n",
              "      <td>1</td>\n",
              "    </tr>\n",
              "    <tr>\n",
              "      <th>WALLIS Y FUTUNA</th>\n",
              "      <td>1</td>\n",
              "    </tr>\n",
              "  </tbody>\n",
              "</table>\n",
              "</div><br><label><b>dtype:</b> int64</label>"
            ]
          },
          "metadata": {},
          "execution_count": 10
        }
      ]
    },
    {
      "cell_type": "markdown",
      "source": [
        "## Comparación estrato-genero\n",
        "Con el objetivo de ver si hay una disparidad entre los generos masculino y femenino, se hizo este análisis para comparar diferentes estadisticas entre los generos en los diferentes estratos."
      ],
      "metadata": {
        "id": "ncHQpYdbijrd"
      }
    },
    {
      "cell_type": "markdown",
      "source": [
        "### Inicialización de variables"
      ],
      "metadata": {
        "id": "4c-WhNjljv9H"
      }
    },
    {
      "cell_type": "code",
      "source": [
        "df_estrato1 = df[df['FAMI_ESTRATOVIVIENDA'] == 'Estrato 1']\n",
        "df_estrato2 = df[df['FAMI_ESTRATOVIVIENDA'] == 'Estrato 2']\n",
        "df_estrato3 = df[df['FAMI_ESTRATOVIVIENDA'] == 'Estrato 3']\n",
        "df_estrato4 = df[df['FAMI_ESTRATOVIVIENDA'] == 'Estrato 4']\n",
        "df_estrato5 = df[df['FAMI_ESTRATOVIVIENDA'] == 'Estrato 5']\n",
        "df_estrato6 = df[df['FAMI_ESTRATOVIVIENDA'] == 'Estrato 6']\n",
        "df_sin_estrato = df[df['FAMI_ESTRATOVIVIENDA'] == 'Sin Estrato']"
      ],
      "metadata": {
        "id": "pHxwEy4g-V3w"
      },
      "execution_count": null,
      "outputs": []
    },
    {
      "cell_type": "code",
      "source": [
        "df_estrato1_femenino = df_estrato1[df_estrato1['ESTU_GENERO'] == 'F']\n",
        "df_estrato1_masculino = df_estrato1[df_estrato1['ESTU_GENERO'] == 'M']\n",
        "\n",
        "df_estrato2_femenino = df_estrato2[df_estrato2['ESTU_GENERO'] == 'F']\n",
        "df_estrato2_masculino = df_estrato2[df_estrato2['ESTU_GENERO'] == 'M']\n",
        "\n",
        "df_estrato3_femenino = df_estrato3[df_estrato3['ESTU_GENERO'] == 'F']\n",
        "df_estrato3_masculino = df_estrato3[df_estrato3['ESTU_GENERO'] == 'M']\n",
        "\n",
        "df_estrato4_femenino = df_estrato4[df_estrato4['ESTU_GENERO'] == 'F']\n",
        "df_estrato4_masculino = df_estrato4[df_estrato4['ESTU_GENERO'] == 'M']\n",
        "\n",
        "df_estrato5_femenino = df_estrato5[df_estrato5['ESTU_GENERO'] == 'F']\n",
        "df_estrato5_masculino = df_estrato5[df_estrato5['ESTU_GENERO'] == 'M']\n",
        "\n",
        "df_estrato6_femenino = df_estrato6[df_estrato6['ESTU_GENERO'] == 'F']\n",
        "df_estrato6_masculino = df_estrato6[df_estrato6['ESTU_GENERO'] == 'M']\n",
        "\n",
        "df_sin_estrato_femenino = df_sin_estrato[df_sin_estrato['ESTU_GENERO'] == 'F']\n",
        "df_sin_estrato_masculino = df_sin_estrato[df_sin_estrato['ESTU_GENERO'] == 'M']"
      ],
      "metadata": {
        "id": "I6J9ZBGyAJMO"
      },
      "execution_count": null,
      "outputs": []
    },
    {
      "cell_type": "markdown",
      "source": [
        "### Comparación numero de participantes\n",
        "Se compara la cantidad de personas que participan por cada estrato dividiendolo en femenino y masculino."
      ],
      "metadata": {
        "id": "pUWEjilUjHjU"
      }
    },
    {
      "cell_type": "code",
      "source": [
        "estratos_femeninos_size = [len(df_estrato1_femenino),\n",
        "                      len(df_estrato2_femenino),\n",
        "                      len(df_estrato3_femenino),\n",
        "                      len(df_estrato4_femenino),\n",
        "                      len(df_estrato5_femenino),\n",
        "                      len(df_estrato6_femenino),\n",
        "                      len(df_sin_estrato_femenino)]\n",
        "estratos_masculinos_size = [len(df_estrato1_masculino),\n",
        "                       len(df_estrato2_masculino),\n",
        "                       len(df_estrato3_masculino),\n",
        "                       len(df_estrato4_masculino),\n",
        "                       len(df_estrato5_masculino),\n",
        "                       len(df_estrato6_masculino),\n",
        "                       len(df_sin_estrato_masculino)]\n",
        "\n",
        "bar_with = 0.4\n",
        "x=np.arange(7)\n",
        "plt.bar(x-0.2, estratos_femeninos_size, bar_with, color='pink')\n",
        "plt.bar(x+0.2, estratos_masculinos_size, bar_with, color='blue')\n",
        "plt.xticks(x, [\"Estrato 1\", \"Estrato 2\", \"Estrato 3\", \"Estrato 4\", \"Estrato 5\", \"Estrato 6\", \"Sin E\"])\n",
        "plt.legend([\"Femenino\", \"Masculino\"])\n",
        "plt.xlabel(\"Estratos\")\n",
        "plt.ylabel(\"numero de participantes\")\n",
        "plt.show()\n"
      ],
      "metadata": {
        "colab": {
          "base_uri": "https://localhost:8080/",
          "height": 449
        },
        "id": "Cvr0SKr3CWvV",
        "outputId": "4702aab0-6318-48e6-a063-01523ea1ad23"
      },
      "execution_count": null,
      "outputs": [
        {
          "output_type": "display_data",
          "data": {
            "text/plain": [
              "<Figure size 640x480 with 1 Axes>"
            ],
            "image/png": "[encoded data removed]"
          },
          "metadata": {}
        }
      ]
    },
    {
      "cell_type": "code",
      "source": [
        "diferencia_porcentual_estrato1 = (len(df_estrato1_femenino) - len(df_estrato1_masculino))/len(df_estrato1_masculino)*100\n",
        "diferencia_porcentual_estrato2 = (len(df_estrato2_femenino) - len(df_estrato2_masculino))/len(df_estrato2_masculino)*100\n",
        "diferencia_porcentual_estrato3 = (len(df_estrato3_femenino) - len(df_estrato3_masculino))/len(df_estrato3_masculino)*100\n",
        "diferencia_porcentual_estrato4 = (len(df_estrato4_femenino) - len(df_estrato4_masculino))/len(df_estrato4_masculino)*100\n",
        "diferencia_porcentual_estrato5 = (len(df_estrato5_femenino) - len(df_estrato5_masculino))/len(df_estrato5_masculino)*100\n",
        "diferencia_porcentual_estrato6 = (len(df_estrato6_femenino) - len(df_estrato6_masculino))/len(df_estrato6_masculino)*100\n",
        "diferencia_porcentual_sin_estrato = (len(df_sin_estrato_femenino) - len(df_sin_estrato_masculino))/len(df_sin_estrato_masculino)*100\n",
        "print(f\"las mujeres tienen una diferencia con los hombres en el estrato 1 es del {round(diferencia_porcentual_estrato1, 2)}%\")\n",
        "print(f\"las mujeres tienen una diferencia con los hombres en el estrato 2 es del {round(diferencia_porcentual_estrato2, 2)}%\")\n",
        "print(f\"las mujeres tienen una diferencia con los hombres en el estrato 3 es del {round(diferencia_porcentual_estrato3, 2)}%\")\n",
        "print(f\"las mujeres tienen una diferencia con los hombres en el estrato 4 es del {round(diferencia_porcentual_estrato4, 2)}%\")\n",
        "print(f\"las mujeres tienen una diferencia con los hombres en el estrato 5 es del {round(diferencia_porcentual_estrato5, 2)}%\")\n",
        "print(f\"las mujeres tienen una diferencia con los hombres en el estrato 6 es del {round(diferencia_porcentual_estrato6, 2)}%\")\n",
        "print(f\"las mujeres tienen una diferencia con los hombres sin estrato es del {round(diferencia_porcentual_sin_estrato, 2)}%\")\n",
        "\n"
      ],
      "metadata": {
        "colab": {
          "base_uri": "https://localhost:8080/"
        },
        "id": "amNJA1dDuiJ4",
        "outputId": "a60508a0-d48f-4c26-e077-1a0240dd4c1b"
      },
      "execution_count": null,
      "outputs": [
        {
          "output_type": "stream",
          "name": "stdout",
          "text": [
            "las mujeres tienen una diferencia con los hombres en el estrato 1 es del 46.42%\n",
            "las mujeres tienen una diferencia con los hombres en el estrato 2 es del 19.44%\n",
            "las mujeres tienen una diferencia con los hombres en el estrato 3 es del 4.53%\n",
            "las mujeres tienen una diferencia con los hombres en el estrato 4 es del -9.3%\n",
            "las mujeres tienen una diferencia con los hombres en el estrato 5 es del -7.65%\n",
            "las mujeres tienen una diferencia con los hombres en el estrato 6 es del 2.43%\n",
            "las mujeres tienen una diferencia con los hombres sin estrato es del 23.81%\n"
          ]
        }
      ]
    },
    {
      "cell_type": "markdown",
      "source": [
        "### Comparación promedios\n",
        "Se compara el promedio de cada estrato dividiendolo en masculino y femenino."
      ],
      "metadata": {
        "id": "j4uQQRcIjRyk"
      }
    },
    {
      "cell_type": "code",
      "source": [
        "estratos_masculinos_promedio = [df_estrato1_masculino['PUNT_GLOBAL'].mean(),\n",
        "                                df_estrato2_masculino['PUNT_GLOBAL'].mean(),\n",
        "                                df_estrato3_masculino['PUNT_GLOBAL'].mean(),\n",
        "                                df_estrato4_masculino['PUNT_GLOBAL'].mean(),\n",
        "                                df_estrato5_masculino['PUNT_GLOBAL'].mean(),\n",
        "                                df_estrato6_masculino['PUNT_GLOBAL'].mean(),\n",
        "                                df_sin_estrato_masculino['PUNT_GLOBAL'].mean()]\n",
        "estratos_femenino_promedio = [df_estrato1_femenino['PUNT_GLOBAL'].mean(),\n",
        "                                df_estrato2_femenino['PUNT_GLOBAL'].mean(),\n",
        "                                df_estrato3_femenino['PUNT_GLOBAL'].mean(),\n",
        "                                df_estrato4_femenino['PUNT_GLOBAL'].mean(),\n",
        "                                df_estrato5_femenino['PUNT_GLOBAL'].mean(),\n",
        "                                df_estrato6_femenino['PUNT_GLOBAL'].mean(),\n",
        "                                df_sin_estrato_femenino['PUNT_GLOBAL'].mean()]\n",
        "bar_with = 0.4\n",
        "x=np.arange(7)\n",
        "plt.bar(x-0.2, estratos_femenino_promedio, bar_with, color='pink')\n",
        "plt.bar(x+0.2, estratos_masculinos_promedio, bar_with, color='blue')\n",
        "plt.xticks(x, [\"Estrato 1\", \"Estrato 2\", \"Estrato 3\", \"Estrato 4\", \"Estrato 5\", \"Estrato 6\", \"Sin E\"])\n",
        "plt.legend([\"Femenino\", \"Masculino\"])\n",
        "plt.xlabel(\"Estratos\")\n",
        "plt.ylabel(\"Promedio de puntaje\")\n",
        "plt.show()"
      ],
      "metadata": {
        "colab": {
          "base_uri": "https://localhost:8080/",
          "height": 449
        },
        "id": "51fIRrHDMuTa",
        "outputId": "53b15c3d-45a9-4aca-86a0-60a29c08642d"
      },
      "execution_count": null,
      "outputs": [
        {
          "output_type": "display_data",
          "data": {
            "text/plain": [
              "<Figure size 640x480 with 1 Axes>"
            ],
            "image/png": "[encoded data removed]"
          },
          "metadata": {}
        }
      ]
    },
    {
      "cell_type": "code",
      "source": [
        "df_femeninos = df[df['ESTU_GENERO'] == 'F' ]\n",
        "df_masculinos = df[df['ESTU_GENERO'] == 'M' ]\n",
        "promedios_femeninos = df_femeninos['PUNT_GLOBAL'].to_list()\n",
        "plt.boxplot(promedios_femeninos)\n",
        "plt.show()"
      ],
      "metadata": {
        "id": "uCzJTqmaREHc",
        "colab": {
          "base_uri": "https://localhost:8080/",
          "height": 430
        },
        "outputId": "3e5b3fc4-61f5-40b7-ac3a-27fab10bfb3b"
      },
      "execution_count": null,
      "outputs": [
        {
          "output_type": "display_data",
          "data": {
            "text/plain": [
              "<Figure size 640x480 with 1 Axes>"
            ],
            "image/png": "[encoded data removed]"
          },
          "metadata": {}
        }
      ]
    },
    {
      "cell_type": "markdown",
      "source": [
        "##Comparación Urbano-Rural\n",
        "Se quiere averiguar si existe una diferencia notable entre el puntaje promedio de estudiantes en zonas rurales o urbanas, además se va a analizar cómo el género afecta al puntaje e"
      ],
      "metadata": {
        "id": "r7fL1xpuYMMu"
      }
    },
    {
      "cell_type": "code",
      "source": [
        "df_rural = df[df['COLE_AREA_UBICACION'] == 'RURAL']\n",
        "df_urbano = df[df['COLE_AREA_UBICACION'] == 'URBANO']"
      ],
      "metadata": {
        "id": "RaQ9ORwMedsq"
      },
      "execution_count": null,
      "outputs": []
    },
    {
      "cell_type": "code",
      "source": [
        "df_rural_femenino = df_rural[df_rural['ESTU_GENERO'] == 'F']\n",
        "df_rural_masculino = df_rural[df_rural['ESTU_GENERO'] == 'M']\n",
        "df_urbano_femenino = df_urbano[df_urbano['ESTU_GENERO'] == 'F']\n",
        "df_urbano_masculino = df_urbano[df_urbano['ESTU_GENERO'] == 'M']"
      ],
      "metadata": {
        "id": "ykcvcaFpe5dA"
      },
      "execution_count": null,
      "outputs": []
    },
    {
      "cell_type": "code",
      "source": [
        "tipo_femenino_size = [len(df_rural_femenino), len(df_urbano_femenino)]\n",
        "tipo_masculino_size = [len(df_rural_masculino), len(df_urbano_masculino)]"
      ],
      "metadata": {
        "id": "T-j0X4EHfFhO"
      },
      "execution_count": null,
      "outputs": []
    },
    {
      "cell_type": "code",
      "source": [
        "bar_with = 0.4\n",
        "x=np.arange(2)\n",
        "plt.bar(x-0.2, tipo_femenino_size, bar_with, color='pink')\n",
        "plt.bar(x+0.2, tipo_masculino_size, bar_with, color='blue')\n",
        "plt.xticks(x, [\"Rural\", \"Urbano\"])\n",
        "plt.legend([\"Femenino\", \"Masculino\"])\n",
        "plt.xlabel(\"Tipo\")\n",
        "plt.ylabel(\"numero de participantes\")\n",
        "plt.show()"
      ],
      "metadata": {
        "colab": {
          "base_uri": "https://localhost:8080/",
          "height": 449
        },
        "id": "Gkc1_AkGfoeE",
        "outputId": "63b77fec-3e2b-4f98-8d05-93485a7bae3d"
      },
      "execution_count": null,
      "outputs": [
        {
          "output_type": "display_data",
          "data": {
            "text/plain": [
              "<Figure size 640x480 with 1 Axes>"
            ],
            "image/png": "[encoded data removed]"
          },
          "metadata": {}
        }
      ]
    },
    {
      "cell_type": "code",
      "source": [
        "porcentaje_rural = len(df_rural)*100/len(df)\n",
        "print(porcentaje_rural)\n",
        "porcentaje_urbano = len(df_urbano)*100/len(df)\n",
        "print(porcentaje_urbano)"
      ],
      "metadata": {
        "colab": {
          "base_uri": "https://localhost:8080/"
        },
        "id": "npk5C3lzgIB6",
        "outputId": "d8369577-01ee-4b71-cdad-3ec8bd8a223a"
      },
      "execution_count": null,
      "outputs": [
        {
          "output_type": "stream",
          "name": "stdout",
          "text": [
            "16.373444391611603\n",
            "83.6265556083884\n"
          ]
        }
      ]
    },
    {
      "cell_type": "code",
      "source": [
        "tipo_femenino_promedio = [df_rural_femenino['PUNT_GLOBAL'].mean(), df_urbano_femenino['PUNT_GLOBAL'].mean()]\n",
        "tipo_masculino_promedio = [df_rural_masculino['PUNT_GLOBAL'].mean(), df_urbano_masculino['PUNT_GLOBAL'].mean()]\n",
        "print(tipo_femenino_promedio)\n",
        "print(tipo_masculino_promedio)"
      ],
      "metadata": {
        "colab": {
          "base_uri": "https://localhost:8080/"
        },
        "id": "Prp2TuYvgLj1",
        "outputId": "19a1a8e8-6b62-4d35-a63e-65dc3c5e4964"
      },
      "execution_count": null,
      "outputs": [
        {
          "output_type": "stream",
          "name": "stdout",
          "text": [
            "[np.float64(225.84759679881574), np.float64(249.41853617248753)]\n",
            "[np.float64(229.56525890762262), np.float64(257.24942248180275)]\n"
          ]
        }
      ]
    },
    {
      "cell_type": "markdown",
      "source": [
        "La diferencia en el puntaje de las mujeres en zonas urbanas y rurales es de 24 puntos.\n",
        "\n",
        "En hombres es de 28 puntos."
      ],
      "metadata": {
        "id": "CJJNlLmugu1b"
      }
    },
    {
      "cell_type": "code",
      "source": [
        "bar_with = 0.4\n",
        "x=np.arange(2)\n",
        "plt.bar(x-0.2, tipo_femenino_promedio, bar_with, color='pink')\n",
        "plt.bar(x+0.2, tipo_masculino_promedio, bar_with, color='blue')\n",
        "plt.xticks(x, [\"Rural\", \"Urbano\"])\n",
        "plt.legend([\"Femenino\", \"Masculino\"])\n",
        "plt.xlabel(\"Tipo\")\n",
        "plt.ylabel(\"Puntaje promedio\")\n",
        "plt.show()"
      ],
      "metadata": {
        "colab": {
          "base_uri": "https://localhost:8080/",
          "height": 449
        },
        "id": "ORAFIVfmg3YM",
        "outputId": "400d1e56-0c06-4009-9a02-00323cf11b93"
      },
      "execution_count": null,
      "outputs": [
        {
          "output_type": "display_data",
          "data": {
            "text/plain": [
              "<Figure size 640x480 with 1 Axes>"
            ],
            "image/png": "[encoded data removed]"
          },
          "metadata": {}
        }
      ]
    },
    {
      "cell_type": "markdown",
      "source": [
        "##Análisis Percentil\n",
        "Ahora se va a analizar el 10% de puntajes más altos para buscar si existe una disparidad mayor en estos puntajes, entre zonas urbanas y rurales y género de los estudiantes."
      ],
      "metadata": {
        "id": "P_n33Su2hZco"
      }
    },
    {
      "cell_type": "code",
      "source": [
        "percentil_tipos = df.sort_values(by = 'PUNT_GLOBAL', ascending = False)\n",
        "percentil_10_tipos = percentil_tipos.head(487912//10)\n",
        "percentil_10_urbano = percentil_10_tipos[percentil_10_tipos['COLE_AREA_UBICACION'] == 'URBANO']\n",
        "percentil_10_rural = percentil_10_tipos[percentil_10_tipos['COLE_AREA_UBICACION'] == 'RURAL']\n",
        "percentil_tipos_valor = percentil_tipos['PUNT_GLOBAL'].quantile(0.9)\n",
        "print(percentil_tipos_valor)"
      ],
      "metadata": {
        "colab": {
          "base_uri": "https://localhost:8080/"
        },
        "id": "0hKp5zFThDB4",
        "outputId": "b3491f6b-72e4-444b-e743-8e9ef157934e"
      },
      "execution_count": null,
      "outputs": [
        {
          "output_type": "stream",
          "name": "stdout",
          "text": [
            "315.0\n"
          ]
        }
      ]
    },
    {
      "cell_type": "code",
      "source": [
        "percentil_10_urbano_femenino = percentil_10_urbano[percentil_10_urbano['ESTU_GENERO'] == 'F']\n",
        "percentil_10_urbano_masculino = percentil_10_urbano[percentil_10_urbano['ESTU_GENERO'] == 'M']\n",
        "percentil_10_rural_femenino = percentil_10_rural[percentil_10_rural['ESTU_GENERO'] == 'F']\n",
        "percentil_10_rural_masculino = percentil_10_rural[percentil_10_rural['ESTU_GENERO'] == 'M']"
      ],
      "metadata": {
        "id": "iPx8OKllh09b"
      },
      "execution_count": null,
      "outputs": []
    },
    {
      "cell_type": "code",
      "source": [
        "percentil_femenino = [percentil_10_rural_femenino['PUNT_GLOBAL'].mean(),percentil_10_urbano_femenino['PUNT_GLOBAL'].mean()]\n",
        "percentil_masculino = [percentil_10_rural_masculino['PUNT_GLOBAL'].mean(),percentil_10_urbano_masculino['PUNT_GLOBAL'].mean()]"
      ],
      "metadata": {
        "id": "peGAp1RNh3yf"
      },
      "execution_count": null,
      "outputs": []
    },
    {
      "cell_type": "code",
      "source": [
        "bar_with = 0.4\n",
        "x=np.arange(2)\n",
        "plt.bar(x-0.2, percentil_femenino, bar_with, color='pink')\n",
        "plt.bar(x+0.2, percentil_masculino, bar_with, color='blue')\n",
        "plt.xticks(x, [\"Rural\", \"Urbano\"])\n",
        "plt.legend([\"Femenino\", \"Masculino\"])\n",
        "plt.xlabel(\"Tipo\")\n",
        "plt.ylabel(\"Puntaje promedio\")\n",
        "plt.show()"
      ],
      "metadata": {
        "colab": {
          "base_uri": "https://localhost:8080/",
          "height": 449
        },
        "id": "bCKvXmeJiAax",
        "outputId": "b2440f32-0390-4b46-a9c6-6f775f5b883a"
      },
      "execution_count": null,
      "outputs": [
        {
          "output_type": "display_data",
          "data": {
            "text/plain": [
              "<Figure size 640x480 with 1 Axes>"
            ],
            "image/png": "[encoded data removed]"
          },
          "metadata": {}
        }
      ]
    },
    {
      "cell_type": "markdown",
      "source": [
        "Se puede evidenciar que el promedio de puntaje entre los diferentes grupos es bastante similar, entonces se procede a analizar las proporciones."
      ],
      "metadata": {
        "id": "yySBxPssilNb"
      }
    },
    {
      "cell_type": "code",
      "source": [
        "print(len(percentil_10_rural))\n",
        "print(len(percentil_10_urbano))"
      ],
      "metadata": {
        "colab": {
          "base_uri": "https://localhost:8080/"
        },
        "id": "F_wt3mOnjKP8",
        "outputId": "157818d3-3e2f-41a0-b758-c8c027cce266"
      },
      "execution_count": null,
      "outputs": [
        {
          "output_type": "stream",
          "name": "stdout",
          "text": [
            "3257\n",
            "45534\n"
          ]
        }
      ]
    },
    {
      "cell_type": "code",
      "source": [
        "porcentaje_10_rural = len(percentil_10_rural)*100/len(percentil_10_tipos)\n",
        "print(porcentaje_10_rural)\n",
        "porcentaje_10_urbano = len(percentil_10_urbano)*100/len(percentil_10_tipos)\n",
        "print(porcentaje_10_urbano)"
      ],
      "metadata": {
        "colab": {
          "base_uri": "https://localhost:8080/"
        },
        "id": "kiiYCRPijN2G",
        "outputId": "d479d987-1b9e-4e38-eacd-5e0a00ec0994"
      },
      "execution_count": null,
      "outputs": [
        {
          "output_type": "stream",
          "name": "stdout",
          "text": [
            "6.675411448832777\n",
            "93.32458855116722\n"
          ]
        }
      ]
    },
    {
      "cell_type": "markdown",
      "source": [
        "A pesar de que la proporción total de estudiantes de zonas rurales 16.37% solo un 6.67% de los estudiantes con el puntaje más alto son de zonas rurales, esto es una disparidad enorme."
      ],
      "metadata": {
        "id": "U3DRVwuajoIb"
      }
    },
    {
      "cell_type": "code",
      "source": [
        "percentil_rural = df_rural.sort_values(by = 'PUNT_GLOBAL', ascending = False)\n",
        "percentil_urbano = df_urbano.sort_values(by = 'PUNT_GLOBAL', ascending = False)"
      ],
      "metadata": {
        "id": "6atDRLHkjR2q"
      },
      "execution_count": null,
      "outputs": []
    },
    {
      "cell_type": "code",
      "source": [
        "percentil_genero = df.sort_values(by = 'PUNT_GLOBAL', ascending = False)\n",
        "percentil_10_genero = percentil_tipos.head(487912//10)\n",
        "percentil_10_masculino = percentil_10_tipos[percentil_10_tipos['ESTU_GENERO'] == 'M']\n",
        "percentil_10_femenino = percentil_10_tipos[percentil_10_tipos['ESTU_GENERO'] == 'F']\n",
        "percentil_genero_valor = percentil_tipos['PUNT_GLOBAL'].quantile(0.9)"
      ],
      "metadata": {
        "id": "fES9Gv4TkY57"
      },
      "execution_count": null,
      "outputs": []
    },
    {
      "cell_type": "code",
      "source": [
        "print(len(percentil_10_masculino))\n",
        "print(len(percentil_10_femenino))"
      ],
      "metadata": {
        "colab": {
          "base_uri": "https://localhost:8080/"
        },
        "id": "pIP39urJkb8p",
        "outputId": "6526daf2-e3ca-47b8-c5b4-f96247d35c9d"
      },
      "execution_count": null,
      "outputs": [
        {
          "output_type": "stream",
          "name": "stdout",
          "text": [
            "25617\n",
            "23174\n"
          ]
        }
      ]
    },
    {
      "cell_type": "code",
      "source": [
        "bar_with = 0.4\n",
        "x=np.arange(1)\n",
        "plt.bar(x-0.2, len(percentil_10_femenino), bar_with, color='pink')\n",
        "plt.bar(x+0.2, len(percentil_10_masculino), bar_with, color='blue')\n",
        "plt.xticks(x, [])\n",
        "plt.legend([\"Femenino\", \"Masculino\"])\n",
        "plt.ylabel(\"Número de Participantes\")\n",
        "plt.xlabel(\"Género\")\n",
        "plt.show()"
      ],
      "metadata": {
        "id": "N8q3WDX2kgWp",
        "outputId": "415e99fb-4a39-491b-dbf7-19ccf4194338",
        "colab": {
          "base_uri": "https://localhost:8080/",
          "height": 435
        }
      },
      "execution_count": null,
      "outputs": [
        {
          "output_type": "display_data",
          "data": {
            "text/plain": [
              "<Figure size 640x480 with 1 Axes>"
            ],
            "image/png": "[encoded data removed]"
          },
          "metadata": {}
        }
      ]
    },
    {
      "cell_type": "markdown",
      "source": [
        "##**Comparación puntajes por país de residencia**\n",
        "\n",
        "Generar un análisis visual comparativo del rendimiento académico promedio de estudiantes en diferentes países seleccionados, mostrando además el número de participantes por país."
      ],
      "metadata": {
        "id": "dp967sdmYbed"
      }
    },
    {
      "cell_type": "code",
      "source": [
        "# Lista de países de interés\n",
        "paises_deseados = [\n",
        "    \"VENEZUELA\", \"ESTADOS UNIDOS\", \"ECUADOR\", \"ESPAÑA\", \"CUBA\",\n",
        "    \"PERÚ\", \"ARGENTINA\", \"BRASIL\", \"COSTA RICA\", \"PANAMÁ\",\n",
        "    \"MÉXICO\", \"COLOMBIA\"\n",
        "]\n",
        "\n",
        "# Filtrar el DataFrame\n",
        "df_filtrado = df[df[\"ESTU_PAIS_RESIDE\"].isin(paises_deseados)]\n",
        "\n",
        "# Agrupar por país y calcular promedio y cantidad\n",
        "resumen = (\n",
        "    df_filtrado\n",
        "    .groupby(\"ESTU_PAIS_RESIDE\")\n",
        "    .agg(\n",
        "        promedio=(\"PUNT_GLOBAL\", \"mean\"),\n",
        "        cantidad=(\"PUNT_GLOBAL\", \"count\")\n",
        "    )\n",
        "    .sort_values(by=\"promedio\", ascending=False)\n",
        "    .reset_index()\n",
        ")\n",
        "\n",
        "# Datos para el gráfico\n",
        "paises = resumen[\"ESTU_PAIS_RESIDE\"]\n",
        "promedios = resumen[\"promedio\"]\n",
        "cantidades = resumen[\"cantidad\"]\n",
        "\n",
        "# Crear colores con la paleta magma\n",
        "colores = plt.cm.magma(np.linspace(0.2, 0.8, len(paises)))\n",
        "\n",
        "# Crear gráfico de barras\n",
        "plt.figure(figsize=(12, 6))\n",
        "barras = plt.bar(paises, promedios, color=colores)\n",
        "\n",
        "# Añadir etiquetas con número de estudiantes sobre cada barra\n",
        "for i, (valor, cantidad) in enumerate(zip(promedios, cantidades)):\n",
        "    plt.text(i, valor + 1, f\"N={cantidad}\", ha=\"center\", va=\"bottom\", fontsize=10)\n",
        "\n",
        "# Personalización\n",
        "plt.title(\"Promedio de Puntaje Global por País (con número de estudiantes)\")\n",
        "plt.xlabel(\"País de residencia\")\n",
        "plt.ylabel(\"Promedio del Puntaje Global\")\n",
        "plt.xticks(rotation=45)\n",
        "plt.tight_layout()\n",
        "plt.show()\n"
      ],
      "metadata": {
        "colab": {
          "base_uri": "https://localhost:8080/",
          "height": 607
        },
        "id": "BoYTgwbQYdQm",
        "outputId": "7bd002ec-cfed-44bd-fe6c-5538cfca291d"
      },
      "execution_count": null,
      "outputs": [
        {
          "output_type": "display_data",
          "data": {
            "text/plain": [
              "<Figure size 1200x600 with 1 Axes>"
            ],
            "image/png": "[encoded data removed]"
          },
          "metadata": {}
        }
      ]
    }
  ]
}